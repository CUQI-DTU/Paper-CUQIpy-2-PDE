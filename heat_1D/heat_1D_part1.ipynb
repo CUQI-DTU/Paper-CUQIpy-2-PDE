{
 "cells": [
  {
   "attachments": {},
   "cell_type": "markdown",
   "metadata": {},
   "source": [
    "# 2. Framework for PDE-based Bayesian inverse problems in CUQIpy (sections 2.1 to 2.6)"
   ]
  },
  {
   "attachments": {},
   "cell_type": "markdown",
   "metadata": {},
   "source": [
    "## 2.1. The 1D heat equation inverse problem"
   ]
  },
  {
   "attachments": {},
   "cell_type": "markdown",
   "metadata": {},
   "source": [
    "##  2.2 The discretized heat equation in CUQIpy"
   ]
  },
  {
   "cell_type": "code",
   "execution_count": null,
   "metadata": {},
   "outputs": [],
   "source": [
    "import numpy as np\n",
    "import matplotlib.pyplot as plt\n",
    "from cuqi.distribution import Gaussian, JointDistribution\n",
    "from cuqi.geometry import Continuous1D, KLExpansion, StepExpansion\n",
    "from cuqi.pde import TimeDependentLinearPDE\n",
    "from cuqi.model import PDEModel\n",
    "from cuqi.sampler import CWMH\n",
    "from cuqi.array import CUQIarray\n",
    "from paper_figures import plot_figure2, plot_figure3, plot_figure4"
   ]
  },
  {
   "cell_type": "code",
   "execution_count": null,
   "metadata": {},
   "outputs": [],
   "source": [
    "n_grid = 100   # Number of solution nodes\n",
    "h = 1/(n_grid+1)   # Space step size"
   ]
  },
  {
   "cell_type": "code",
   "execution_count": null,
   "metadata": {},
   "outputs": [],
   "source": [
    "grid = np.linspace(h, 1-h, n_grid)"
   ]
  },
  {
   "cell_type": "code",
   "execution_count": null,
   "metadata": {},
   "outputs": [],
   "source": [
    "tau_max = 0.02 # Final time\n",
    "cfl = 5/11 # The cfl condition to have a stable solution\n",
    "dt_approx = cfl*h**2 # Defining approximate time step size\n",
    "n_tau = int(tau_max/dt_approx)+1 # Number of time steps"
   ]
  },
  {
   "cell_type": "code",
   "execution_count": null,
   "metadata": {},
   "outputs": [],
   "source": [
    "tau = np.linspace(0, tau_max, n_tau)"
   ]
  },
  {
   "cell_type": "code",
   "execution_count": null,
   "metadata": {},
   "outputs": [],
   "source": [
    "c = 1"
   ]
  },
  {
   "cell_type": "code",
   "execution_count": null,
   "metadata": {},
   "outputs": [],
   "source": [
    "f = np.zeros(n_grid)\n",
    "D_c = c**2 * ( np.diag(-2*np.ones(n_grid), 0) +\n",
    "np.diag(np.ones(n_grid-1), -1) +\n",
    "np.diag(np.ones(n_grid-1), 1) ) / h**2"
   ]
  },
  {
   "cell_type": "code",
   "execution_count": null,
   "metadata": {},
   "outputs": [],
   "source": [
    "def PDE_form(g, tau_current):\n",
    "    return (D_c, f, g)"
   ]
  },
  {
   "cell_type": "code",
   "execution_count": null,
   "metadata": {},
   "outputs": [],
   "source": [
    "PDE = TimeDependentLinearPDE(PDE_form, tau, grid_sol=grid)"
   ]
  },
  {
   "cell_type": "code",
   "execution_count": null,
   "metadata": {},
   "outputs": [],
   "source": [
    "print(PDE)"
   ]
  },
  {
   "cell_type": "code",
   "execution_count": null,
   "metadata": {},
   "outputs": [],
   "source": [
    "g_custom =1/30*(1-np.cos(2*np.pi*(1-grid)/(1)))\\\n",
    "                +1/30*np.exp(-2*(10*(grid-0.5))**2)+\\\n",
    "                 1/30*np.exp(-2*(10*(grid-0.8))**2)"
   ]
  },
  {
   "cell_type": "code",
   "execution_count": null,
   "metadata": {},
   "outputs": [],
   "source": [
    "PDE.assemble(g_custom)\n",
    "u_custom, info = PDE.solve()"
   ]
  },
  {
   "cell_type": "code",
   "execution_count": null,
   "metadata": {},
   "outputs": [],
   "source": [
    "y_custom = PDE.observe(u_custom)"
   ]
  },
  {
   "attachments": {},
   "cell_type": "markdown",
   "metadata": {},
   "source": [
    "Code cell for plotting figure 2:"
   ]
  },
  {
   "cell_type": "code",
   "execution_count": null,
   "metadata": {},
   "outputs": [],
   "source": [
    "fig_dir = './figs/'\n",
    "version = 'v3'\n",
    "\n",
    "# Hack to show solutions at intermediate time steps\n",
    "# In upcoming release, we will add this feature to the PDE class\n",
    "# to return solutions at all time steps\n",
    "intermediate_indices = [1, 39, 99, len(tau)-1]\n",
    "intermediate_times = [tau[i] for i in intermediate_indices]\n",
    "u_intermediate = np.zeros((len(intermediate_indices), len(grid)))\n",
    "\n",
    "for i, idx in enumerate(intermediate_indices):\n",
    "    PDE_temp = TimeDependentLinearPDE(\n",
    "        PDE.PDE_form, tau[:idx+1], grid_sol=grid)\n",
    "    PDE_temp.assemble(g_custom)\n",
    "    u_intermediate[i, :] = PDE_temp.solve()[0]\n",
    "\n",
    "plot_figure2(fig_dir, version,\n",
    "             g_custom, u_custom, y_custom, u_intermediate,\n",
    "             grid, tau, intermediate_times)"
   ]
  },
  {
   "attachments": {},
   "cell_type": "markdown",
   "metadata": {},
   "source": [
    "## 2.3 The 1D heat forward problem in CUQIpy"
   ]
  },
  {
   "cell_type": "code",
   "execution_count": null,
   "metadata": {},
   "outputs": [],
   "source": [
    "G_cont = Continuous1D(grid)"
   ]
  },
  {
   "cell_type": "code",
   "execution_count": null,
   "metadata": {},
   "outputs": [],
   "source": [
    "A = PDEModel(PDE, range_geometry=G_cont, domain_geometry=G_cont)"
   ]
  },
  {
   "attachments": {},
   "cell_type": "markdown",
   "metadata": {},
   "source": [
    "## 2.4 Parametrization by the geometry class"
   ]
  },
  {
   "cell_type": "code",
   "execution_count": null,
   "metadata": {},
   "outputs": [],
   "source": [
    "n_step = 3"
   ]
  },
  {
   "cell_type": "code",
   "execution_count": null,
   "metadata": {},
   "outputs": [],
   "source": [
    "G_step = StepExpansion(grid, n_steps=n_step)"
   ]
  },
  {
   "cell_type": "code",
   "execution_count": null,
   "metadata": {},
   "outputs": [],
   "source": [
    "x_step = CUQIarray([0, 1, 0.5], geometry=G_step)"
   ]
  },
  {
   "cell_type": "code",
   "execution_count": null,
   "metadata": {},
   "outputs": [],
   "source": [
    "x_step.plot()"
   ]
  },
  {
   "cell_type": "code",
   "execution_count": null,
   "metadata": {},
   "outputs": [],
   "source": [
    "x_step.plot(plot_par=True)"
   ]
  },
  {
   "cell_type": "code",
   "execution_count": null,
   "metadata": {},
   "outputs": [],
   "source": [
    "A = PDEModel(PDE, range_geometry=G_cont, domain_geometry=G_step)"
   ]
  },
  {
   "cell_type": "code",
   "execution_count": null,
   "metadata": {},
   "outputs": [],
   "source": [
    "print(A)"
   ]
  },
  {
   "cell_type": "code",
   "execution_count": null,
   "metadata": {},
   "outputs": [],
   "source": [
    "y_step = A(x=x_step)\n",
    "y_step.plot()"
   ]
  },
  {
   "attachments": {},
   "cell_type": "markdown",
   "metadata": {},
   "source": [
    "Code cell for plotting figure 3:"
   ]
  },
  {
   "cell_type": "code",
   "execution_count": null,
   "metadata": {},
   "outputs": [],
   "source": [
    "fig_dir = './figs/'\n",
    "version = 'v3'\n",
    "plot_figure3(fig_dir, version, x_step, y_step)"
   ]
  },
  {
   "attachments": {},
   "cell_type": "markdown",
   "metadata": {},
   "source": [
    "## 2.5. Specifying and solving the PDE-based Bayesian inverse problem"
   ]
  },
  {
   "cell_type": "code",
   "execution_count": null,
   "metadata": {},
   "outputs": [],
   "source": [
    "# set up the noise level:\n",
    "noise_level = 0.1\n",
    "s_noise =1.0/np.sqrt(n_grid)* noise_level*np.linalg.norm(y_step)"
   ]
  },
  {
   "cell_type": "code",
   "execution_count": null,
   "metadata": {},
   "outputs": [],
   "source": [
    "x = Gaussian(np.zeros(n_step), 1, geometry=G_step)\n",
    "y = Gaussian(A(x), s_noise**2, geometry=G_cont)"
   ]
  },
  {
   "cell_type": "code",
   "execution_count": null,
   "metadata": {},
   "outputs": [],
   "source": [
    "print(y)"
   ]
  },
  {
   "cell_type": "code",
   "execution_count": null,
   "metadata": {},
   "outputs": [],
   "source": [
    "prior_samples = x.sample(5)"
   ]
  },
  {
   "cell_type": "code",
   "execution_count": null,
   "metadata": {},
   "outputs": [],
   "source": [
    "# The cell should be replaced by the following code line in an upcoming release\n",
    "# prior_samples.plot()\n",
    "# Using prior_samples.plot is supported in general but there is a bug in this\n",
    "# case.\n",
    "\n",
    "# Hack for plotting the prior samples\n",
    "for s in prior_samples:\n",
    "    prior_samples.geometry.plot(s, is_par=True) \n"
   ]
  },
  {
   "cell_type": "code",
   "execution_count": null,
   "metadata": {},
   "outputs": [],
   "source": [
    "y_obs = y(x=x_step).sample()"
   ]
  },
  {
   "cell_type": "code",
   "execution_count": null,
   "metadata": {},
   "outputs": [],
   "source": [
    "joint = JointDistribution(x, y)\n",
    "posterior = joint(y=y_obs) # condition on y=y_obs"
   ]
  },
  {
   "cell_type": "code",
   "execution_count": null,
   "metadata": {},
   "outputs": [],
   "source": [
    "print(joint)"
   ]
  },
  {
   "cell_type": "code",
   "execution_count": null,
   "metadata": {},
   "outputs": [],
   "source": [
    "my_sampler = CWMH(posterior)"
   ]
  },
  {
   "cell_type": "code",
   "execution_count": null,
   "metadata": {},
   "outputs": [],
   "source": [
    "# The factor to reduce the number of samples just to make the code\n",
    "# run faster, setting it to 1 will give the same results as in the paper\n",
    "# up to some random effect due to the random sampling and noise\n",
    "Ns_factor = 1  \n",
    "\n",
    "posterior_samples = my_sampler.sample_adapt(int(50000*Ns_factor))\n"
   ]
  },
  {
   "attachments": {},
   "cell_type": "markdown",
   "metadata": {},
   "source": [
    "## 2.6. Posterior samples analysis, and visualization"
   ]
  },
  {
   "cell_type": "code",
   "execution_count": null,
   "metadata": {},
   "outputs": [],
   "source": [
    "# The cell should be replaced by the following code line in an upcoming release\n",
    "# posterior_samples.plot([int(idx*Ns_factor) for idx in [2000, 3000, 4000, 5000, 6000]])\n",
    "# Using posterior_samples.plot is supported in general but there is a bug in this\n",
    "# case.\n",
    "\n",
    "# Hack for plotting the prior samples\n",
    "samples_indices = [int(idx*Ns_factor) for idx in [2000, 3000, 4000, 5000, 6000]]\n",
    "for idx in samples_indices:\n",
    "    posterior_samples.geometry.plot(posterior_samples.samples[:,idx], is_par=True) "
   ]
  },
  {
   "cell_type": "code",
   "execution_count": null,
   "metadata": {},
   "outputs": [],
   "source": [
    "posterior_samples.plot_ci(95, exact=x_step)"
   ]
  },
  {
   "attachments": {},
   "cell_type": "markdown",
   "metadata": {},
   "source": [
    "Code cell for plotting figure 4:"
   ]
  },
  {
   "cell_type": "code",
   "execution_count": null,
   "metadata": {},
   "outputs": [],
   "source": [
    "fig_dir = './figs/'\n",
    "version = 'v6'\n",
    "plot_figure4(fig_dir, version, G_step, \n",
    "                 prior_samples, posterior_samples, Ns_factor,\n",
    "                 x_step, y_step, y_obs)"
   ]
  }
 ],
 "metadata": {
  "kernelspec": {
   "display_name": "Python 3.8.8 ('base')",
   "language": "python",
   "name": "python3"
  },
  "language_info": {
   "codemirror_mode": {
    "name": "ipython",
    "version": 3
   },
   "file_extension": ".py",
   "mimetype": "text/x-python",
   "name": "python",
   "nbconvert_exporter": "python",
   "pygments_lexer": "ipython3",
   "version": "3.10.5"
  },
  "vscode": {
   "interpreter": {
    "hash": "4ff4ac6af9578637e0e623c40bf41129eb04e2c9abec3a9480d43324f3a3fec8"
   }
  }
 },
 "nbformat": 4,
 "nbformat_minor": 4
}
