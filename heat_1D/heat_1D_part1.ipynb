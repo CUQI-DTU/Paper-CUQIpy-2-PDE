{
 "cells": [
  {
   "attachments": {},
   "cell_type": "markdown",
   "metadata": {},
   "source": [
    "# Code for CUQIpy paper 2, section 2. Framework for PDE-based Bayesian inverse problems in CUQIpy (sections 2.2 to 2.6)"
   ]
  },
  {
   "cell_type": "markdown",
   "metadata": {},
   "source": [
    "This notebook is demonstrating how you set up a PDE-based Bayesian inverse problem in `CUQIpy`. We use the heat equation as the PDE example and invert for the initial condition. We demonstrate the components needed for creating the PDE forward model and visualize different unknown parameter parametrization. The notebook is demonstrating creating a PDE forward model, prior, likelihood, and posterior. We also demonstrate sampling using `cuqipy` and visualize the results. Here we parametrize the prior using step expansion when solving the inverse problem."
   ]
  },
  {
   "attachments": {},
   "cell_type": "markdown",
   "metadata": {},
   "source": [
    "##  2.2 The discretized heat equation in CUQIpy"
   ]
  },
  {
   "cell_type": "markdown",
   "metadata": {},
   "source": [
    "Import the required libraries, modules and classes:"
   ]
  },
  {
   "cell_type": "code",
   "execution_count": 1,
   "metadata": {
    "execution": {
     "iopub.execute_input": "2024-02-22T16:46:51.107756Z",
     "iopub.status.busy": "2024-02-22T16:46:51.103479Z",
     "iopub.status.idle": "2024-02-22T16:46:54.584161Z",
     "shell.execute_reply": "2024-02-22T16:46:54.583607Z"
    }
   },
   "outputs": [],
   "source": [
    "import numpy as np\n",
    "import cuqi\n",
    "import matplotlib.pyplot as plt\n",
    "from cuqi.distribution import Gaussian, JointDistribution\n",
    "from cuqi.geometry import Continuous1D, KLExpansion, StepExpansion\n",
    "from cuqi.pde import TimeDependentLinearPDE\n",
    "from cuqi.model import PDEModel\n",
    "from cuqi.sampler import CWMH\n",
    "from cuqi.array import CUQIarray\n",
    "from paper_figures import plot_figure2, plot_figure3, plot_figure4"
   ]
  },
  {
   "cell_type": "markdown",
   "metadata": {},
   "source": [
    "Print CUQIpy version:"
   ]
  },
  {
   "cell_type": "code",
   "execution_count": 2,
   "metadata": {
    "execution": {
     "iopub.execute_input": "2024-02-22T16:46:54.588809Z",
     "iopub.status.busy": "2024-02-22T16:46:54.587556Z",
     "iopub.status.idle": "2024-02-22T16:46:54.605914Z",
     "shell.execute_reply": "2024-02-22T16:46:54.592802Z"
    }
   },
   "outputs": [
    {
     "name": "stdout",
     "output_type": "stream",
     "text": [
      "1.0.0\n"
     ]
    }
   ],
   "source": [
    "print(cuqi.__version__)"
   ]
  },
  {
   "cell_type": "markdown",
   "metadata": {},
   "source": [
    "Set the random seed for reproducibility:"
   ]
  },
  {
   "cell_type": "code",
   "execution_count": 3,
   "metadata": {
    "execution": {
     "iopub.execute_input": "2024-02-22T16:46:54.639892Z",
     "iopub.status.busy": "2024-02-22T16:46:54.639630Z",
     "iopub.status.idle": "2024-02-22T16:46:54.642501Z",
     "shell.execute_reply": "2024-02-22T16:46:54.641975Z"
    }
   },
   "outputs": [],
   "source": [
    "# Set the random seed\n",
    "np.random.seed(10)"
   ]
  },
  {
   "cell_type": "markdown",
   "metadata": {},
   "source": [
    "Set the number of grid points and grid spacing:"
   ]
  },
  {
   "cell_type": "code",
   "execution_count": 4,
   "metadata": {
    "execution": {
     "iopub.execute_input": "2024-02-22T16:46:54.646056Z",
     "iopub.status.busy": "2024-02-22T16:46:54.645817Z",
     "iopub.status.idle": "2024-02-22T16:46:54.648638Z",
     "shell.execute_reply": "2024-02-22T16:46:54.648124Z"
    }
   },
   "outputs": [],
   "source": [
    "n_grid = 100   # Number of solution nodes\n",
    "h = 1/(n_grid+1)   # Space step size"
   ]
  },
  {
   "cell_type": "markdown",
   "metadata": {},
   "source": [
    "Create the grid:"
   ]
  },
  {
   "cell_type": "code",
   "execution_count": 5,
   "metadata": {
    "execution": {
     "iopub.execute_input": "2024-02-22T16:46:54.652183Z",
     "iopub.status.busy": "2024-02-22T16:46:54.651930Z",
     "iopub.status.idle": "2024-02-22T16:46:54.654998Z",
     "shell.execute_reply": "2024-02-22T16:46:54.654447Z"
    }
   },
   "outputs": [],
   "source": [
    "grid = np.linspace(h, 1-h, n_grid)"
   ]
  },
  {
   "cell_type": "markdown",
   "metadata": {},
   "source": [
    "Set up the time discretization parameters:"
   ]
  },
  {
   "cell_type": "code",
   "execution_count": 6,
   "metadata": {
    "execution": {
     "iopub.execute_input": "2024-02-22T16:46:54.658616Z",
     "iopub.status.busy": "2024-02-22T16:46:54.658369Z",
     "iopub.status.idle": "2024-02-22T16:46:54.661473Z",
     "shell.execute_reply": "2024-02-22T16:46:54.660948Z"
    }
   },
   "outputs": [],
   "source": [
    "tau_max = 0.01 # Final time\n",
    "cfl = 5/11 # The cfl condition to have a stable solution\n",
    "dt_approx = cfl*h**2 # Defining approximate time step size\n",
    "n_tau = int(tau_max/dt_approx)+1 # Number of time steps"
   ]
  },
  {
   "cell_type": "markdown",
   "metadata": {},
   "source": [
    "Set up array `tau` of discretization times:"
   ]
  },
  {
   "cell_type": "code",
   "execution_count": 7,
   "metadata": {
    "execution": {
     "iopub.execute_input": "2024-02-22T16:46:54.665100Z",
     "iopub.status.busy": "2024-02-22T16:46:54.664851Z",
     "iopub.status.idle": "2024-02-22T16:46:54.667798Z",
     "shell.execute_reply": "2024-02-22T16:46:54.667277Z"
    }
   },
   "outputs": [],
   "source": [
    "tau = np.linspace(0, tau_max, n_tau)"
   ]
  },
  {
   "cell_type": "markdown",
   "metadata": {},
   "source": [
    "Set $c$ for thermal conductivity $c^2$:"
   ]
  },
  {
   "cell_type": "code",
   "execution_count": 8,
   "metadata": {
    "execution": {
     "iopub.execute_input": "2024-02-22T16:46:54.671198Z",
     "iopub.status.busy": "2024-02-22T16:46:54.670959Z",
     "iopub.status.idle": "2024-02-22T16:46:54.673641Z",
     "shell.execute_reply": "2024-02-22T16:46:54.673138Z"
    }
   },
   "outputs": [],
   "source": [
    "c = 1"
   ]
  },
  {
   "cell_type": "markdown",
   "metadata": {},
   "source": [
    "Create the source term `f` and the differential operator `D_c`:"
   ]
  },
  {
   "cell_type": "code",
   "execution_count": 9,
   "metadata": {
    "execution": {
     "iopub.execute_input": "2024-02-22T16:46:54.677077Z",
     "iopub.status.busy": "2024-02-22T16:46:54.676818Z",
     "iopub.status.idle": "2024-02-22T16:46:54.680343Z",
     "shell.execute_reply": "2024-02-22T16:46:54.679815Z"
    }
   },
   "outputs": [],
   "source": [
    "f = np.zeros(n_grid)\n",
    "D_c = c**2 * ( np.diag(-2*np.ones(n_grid), 0) +\n",
    "np.diag(np.ones(n_grid-1), -1) +\n",
    "np.diag(np.ones(n_grid-1), 1) ) / h**2"
   ]
  },
  {
   "cell_type": "markdown",
   "metadata": {},
   "source": [
    "Create the PDE form:"
   ]
  },
  {
   "cell_type": "code",
   "execution_count": 10,
   "metadata": {
    "execution": {
     "iopub.execute_input": "2024-02-22T16:46:54.683968Z",
     "iopub.status.busy": "2024-02-22T16:46:54.683713Z",
     "iopub.status.idle": "2024-02-22T16:46:54.686656Z",
     "shell.execute_reply": "2024-02-22T16:46:54.686127Z"
    }
   },
   "outputs": [],
   "source": [
    "def PDE_form(g, tau_current):\n",
    "    return (D_c, f, g)"
   ]
  },
  {
   "cell_type": "markdown",
   "metadata": {},
   "source": [
    "Create the `cuqi` PDE object:"
   ]
  },
  {
   "cell_type": "code",
   "execution_count": 11,
   "metadata": {
    "execution": {
     "iopub.execute_input": "2024-02-22T16:46:54.690030Z",
     "iopub.status.busy": "2024-02-22T16:46:54.689810Z",
     "iopub.status.idle": "2024-02-22T16:46:54.692710Z",
     "shell.execute_reply": "2024-02-22T16:46:54.692207Z"
    }
   },
   "outputs": [],
   "source": [
    "PDE = TimeDependentLinearPDE(PDE_form, tau, grid_sol=grid)"
   ]
  },
  {
   "cell_type": "code",
   "execution_count": 12,
   "metadata": {
    "execution": {
     "iopub.execute_input": "2024-02-22T16:46:54.695898Z",
     "iopub.status.busy": "2024-02-22T16:46:54.695675Z",
     "iopub.status.idle": "2024-02-22T16:46:54.699082Z",
     "shell.execute_reply": "2024-02-22T16:46:54.698588Z"
    }
   },
   "outputs": [
    {
     "name": "stdout",
     "output_type": "stream",
     "text": [
      "CUQI TimeDependentLinearPDE.\n",
      "PDE form expression:\n",
      "def PDE_form(g, tau_current):\n",
      "    return (D_c, f, g)\n",
      "\n"
     ]
    }
   ],
   "source": [
    "print(PDE)"
   ]
  },
  {
   "cell_type": "markdown",
   "metadata": {},
   "source": [
    "Set up an initial condition `g_custom`:"
   ]
  },
  {
   "cell_type": "code",
   "execution_count": 13,
   "metadata": {
    "execution": {
     "iopub.execute_input": "2024-02-22T16:46:54.703474Z",
     "iopub.status.busy": "2024-02-22T16:46:54.703222Z",
     "iopub.status.idle": "2024-02-22T16:46:54.708043Z",
     "shell.execute_reply": "2024-02-22T16:46:54.707488Z"
    }
   },
   "outputs": [],
   "source": [
    "g_custom =1/30*(1-np.cos(2*np.pi*(1-grid)/(1)))\\\n",
    "                +1/30*np.exp(-2*(10*(grid-0.5))**2)+\\\n",
    "                 1/30*np.exp(-2*(10*(grid-0.8))**2)"
   ]
  },
  {
   "cell_type": "markdown",
   "metadata": {},
   "source": [
    "Assemble and solve the PDE given the initial condition `g_custom`:"
   ]
  },
  {
   "cell_type": "code",
   "execution_count": 14,
   "metadata": {
    "execution": {
     "iopub.execute_input": "2024-02-22T16:46:54.711562Z",
     "iopub.status.busy": "2024-02-22T16:46:54.711313Z",
     "iopub.status.idle": "2024-02-22T16:46:54.720631Z",
     "shell.execute_reply": "2024-02-22T16:46:54.720069Z"
    }
   },
   "outputs": [],
   "source": [
    "PDE.assemble(g_custom)\n",
    "u_custom, info = PDE.solve()"
   ]
  },
  {
   "cell_type": "markdown",
   "metadata": {},
   "source": [
    "Apply the observation operator:"
   ]
  },
  {
   "cell_type": "code",
   "execution_count": 15,
   "metadata": {
    "execution": {
     "iopub.execute_input": "2024-02-22T16:46:54.724727Z",
     "iopub.status.busy": "2024-02-22T16:46:54.724266Z",
     "iopub.status.idle": "2024-02-22T16:46:54.727215Z",
     "shell.execute_reply": "2024-02-22T16:46:54.726690Z"
    }
   },
   "outputs": [],
   "source": [
    "y_custom = PDE.observe(u_custom)"
   ]
  },
  {
   "attachments": {},
   "cell_type": "markdown",
   "metadata": {},
   "source": [
    "Code cell for plotting figure 2:"
   ]
  },
  {
   "cell_type": "code",
   "execution_count": 16,
   "metadata": {
    "execution": {
     "iopub.execute_input": "2024-02-22T16:46:54.731337Z",
     "iopub.status.busy": "2024-02-22T16:46:54.730875Z",
     "iopub.status.idle": "2024-02-22T16:47:09.017425Z",
     "shell.execute_reply": "2024-02-22T16:47:09.016899Z"
    }
   },
   "outputs": [
    {
     "data": {
      "image/png": "[encoded data removed]",
      "text/plain": [
       "<Figure size 700.787x175.197 with 3 Axes>"
      ]
     },
     "metadata": {},
     "output_type": "display_data"
    }
   ],
   "source": [
    "fig_dir = './figs/'\n",
    "version = 'v3'\n",
    "\n",
    "intermediate_indices = [1, 39, 99, len(tau)-1] # Indices of the intermediate times\n",
    "intermediate_times = [tau[i] for i in intermediate_indices]\n",
    "u_intermediate = u_custom[:, intermediate_indices] # Intermediate solutions\n",
    "\n",
    "plot_figure2(fig_dir, version,\n",
    "             g_custom, u_custom, y_custom, u_intermediate,\n",
    "             grid, tau, intermediate_times)"
   ]
  },
  {
   "attachments": {},
   "cell_type": "markdown",
   "metadata": {},
   "source": [
    "## 2.3 The 1D heat forward problem in CUQIpy"
   ]
  },
  {
   "cell_type": "markdown",
   "metadata": {},
   "source": [
    "Create a continuous geometry on the grid:"
   ]
  },
  {
   "cell_type": "code",
   "execution_count": 17,
   "metadata": {
    "execution": {
     "iopub.execute_input": "2024-02-22T16:47:09.022062Z",
     "iopub.status.busy": "2024-02-22T16:47:09.020887Z",
     "iopub.status.idle": "2024-02-22T16:47:09.025319Z",
     "shell.execute_reply": "2024-02-22T16:47:09.024823Z"
    }
   },
   "outputs": [],
   "source": [
    "G_cont = Continuous1D(grid)"
   ]
  },
  {
   "cell_type": "markdown",
   "metadata": {},
   "source": [
    "Create the `cuqi` forward model object:"
   ]
  },
  {
   "cell_type": "code",
   "execution_count": 18,
   "metadata": {
    "execution": {
     "iopub.execute_input": "2024-02-22T16:47:09.029655Z",
     "iopub.status.busy": "2024-02-22T16:47:09.028478Z",
     "iopub.status.idle": "2024-02-22T16:47:09.032938Z",
     "shell.execute_reply": "2024-02-22T16:47:09.032473Z"
    }
   },
   "outputs": [],
   "source": [
    "A = PDEModel(PDE, range_geometry=G_cont, domain_geometry=G_cont)"
   ]
  },
  {
   "attachments": {},
   "cell_type": "markdown",
   "metadata": {},
   "source": [
    "## 2.4 Parametrization by the geometry class"
   ]
  },
  {
   "attachments": {},
   "cell_type": "markdown",
   "metadata": {},
   "source": [
    "The following code cell is to update final time to 0.02"
   ]
  },
  {
   "cell_type": "code",
   "execution_count": 19,
   "metadata": {
    "execution": {
     "iopub.execute_input": "2024-02-22T16:47:09.036926Z",
     "iopub.status.busy": "2024-02-22T16:47:09.035906Z",
     "iopub.status.idle": "2024-02-22T16:47:09.040606Z",
     "shell.execute_reply": "2024-02-22T16:47:09.040133Z"
    }
   },
   "outputs": [],
   "source": [
    "tau_max = 0.02 # Final time\n",
    "dt_approx = cfl*h**2 # Defining approximate time step size\n",
    "n_tau = int(tau_max/dt_approx)+1 # Number of time steps\n",
    "tau = np.linspace(0, tau_max, n_tau)\n",
    "PDE = TimeDependentLinearPDE(PDE_form, tau, grid_sol=grid)"
   ]
  },
  {
   "cell_type": "markdown",
   "metadata": {},
   "source": [
    "Number of steps to be used in the step expansion parameterization:"
   ]
  },
  {
   "cell_type": "code",
   "execution_count": 20,
   "metadata": {
    "execution": {
     "iopub.execute_input": "2024-02-22T16:47:09.044825Z",
     "iopub.status.busy": "2024-02-22T16:47:09.043701Z",
     "iopub.status.idle": "2024-02-22T16:47:09.047843Z",
     "shell.execute_reply": "2024-02-22T16:47:09.047367Z"
    }
   },
   "outputs": [],
   "source": [
    "n_step = 3"
   ]
  },
  {
   "cell_type": "markdown",
   "metadata": {},
   "source": [
    "Create the step expansion geometry to represent the domain of the forward model:"
   ]
  },
  {
   "cell_type": "code",
   "execution_count": 21,
   "metadata": {
    "execution": {
     "iopub.execute_input": "2024-02-22T16:47:09.051975Z",
     "iopub.status.busy": "2024-02-22T16:47:09.050874Z",
     "iopub.status.idle": "2024-02-22T16:47:09.055361Z",
     "shell.execute_reply": "2024-02-22T16:47:09.054902Z"
    }
   },
   "outputs": [],
   "source": [
    "G_step = StepExpansion(grid, n_steps=n_step)"
   ]
  },
  {
   "cell_type": "markdown",
   "metadata": {},
   "source": [
    "Set up a `CUQIarray` that is interpreted by the step expansion geometry:"
   ]
  },
  {
   "cell_type": "code",
   "execution_count": 22,
   "metadata": {
    "execution": {
     "iopub.execute_input": "2024-02-22T16:47:09.059304Z",
     "iopub.status.busy": "2024-02-22T16:47:09.058298Z",
     "iopub.status.idle": "2024-02-22T16:47:09.062371Z",
     "shell.execute_reply": "2024-02-22T16:47:09.061931Z"
    }
   },
   "outputs": [],
   "source": [
    "x_step = CUQIarray([0, 1, 0.5], geometry=G_step)"
   ]
  },
  {
   "cell_type": "markdown",
   "metadata": {},
   "source": [
    "Plot the function representation of `x_step`:"
   ]
  },
  {
   "cell_type": "code",
   "execution_count": 23,
   "metadata": {
    "execution": {
     "iopub.execute_input": "2024-02-22T16:47:09.066249Z",
     "iopub.status.busy": "2024-02-22T16:47:09.065273Z",
     "iopub.status.idle": "2024-02-22T16:47:09.266276Z",
     "shell.execute_reply": "2024-02-22T16:47:09.265781Z"
    }
   },
   "outputs": [
    {
     "data": {
      "text/plain": [
       "[<matplotlib.lines.Line2D at 0x7fea37df1d00>]"
      ]
     },
     "execution_count": 23,
     "metadata": {},
     "output_type": "execute_result"
    },
    {
     "data": {
      "image/png": "[encoded data removed]",
      "text/plain": [
       "<Figure size 640x480 with 1 Axes>"
      ]
     },
     "metadata": {},
     "output_type": "display_data"
    }
   ],
   "source": [
    "x_step.plot()"
   ]
  },
  {
   "cell_type": "markdown",
   "metadata": {},
   "source": [
    "Plot the parameter representation of `x_step`:"
   ]
  },
  {
   "cell_type": "code",
   "execution_count": 24,
   "metadata": {
    "execution": {
     "iopub.execute_input": "2024-02-22T16:47:09.270949Z",
     "iopub.status.busy": "2024-02-22T16:47:09.269712Z",
     "iopub.status.idle": "2024-02-22T16:47:10.625558Z",
     "shell.execute_reply": "2024-02-22T16:47:10.625079Z"
    }
   },
   "outputs": [
    {
     "data": {
      "text/plain": [
       "[<matplotlib.lines.Line2D at 0x7fea36fbce00>]"
      ]
     },
     "execution_count": 24,
     "metadata": {},
     "output_type": "execute_result"
    },
    {
     "data": {
      "image/png": "[encoded data removed]",
      "text/plain": [
       "<Figure size 640x480 with 1 Axes>"
      ]
     },
     "metadata": {},
     "output_type": "display_data"
    }
   ],
   "source": [
    "x_step.plot(plot_par=True)"
   ]
  },
  {
   "cell_type": "markdown",
   "metadata": {},
   "source": [
    "Create a forward model with the step expansion geometry being the domain geometry:"
   ]
  },
  {
   "cell_type": "code",
   "execution_count": 25,
   "metadata": {
    "execution": {
     "iopub.execute_input": "2024-02-22T16:47:10.629738Z",
     "iopub.status.busy": "2024-02-22T16:47:10.628637Z",
     "iopub.status.idle": "2024-02-22T16:47:10.632936Z",
     "shell.execute_reply": "2024-02-22T16:47:10.632496Z"
    }
   },
   "outputs": [],
   "source": [
    "A = PDEModel(PDE, range_geometry=G_cont, domain_geometry=G_step)"
   ]
  },
  {
   "cell_type": "code",
   "execution_count": 26,
   "metadata": {
    "execution": {
     "iopub.execute_input": "2024-02-22T16:47:10.636631Z",
     "iopub.status.busy": "2024-02-22T16:47:10.635641Z",
     "iopub.status.idle": "2024-02-22T16:47:10.640901Z",
     "shell.execute_reply": "2024-02-22T16:47:10.640460Z"
    }
   },
   "outputs": [
    {
     "name": "stdout",
     "output_type": "stream",
     "text": [
      "CUQI PDEModel: StepExpansion(3,) -> Continuous1D(100,).\n",
      "    Forward parameters: ['x'].\n",
      "    PDE: TimeDependentLinearPDE.\n"
     ]
    }
   ],
   "source": [
    "print(A)"
   ]
  },
  {
   "cell_type": "markdown",
   "metadata": {},
   "source": [
    "Apply the forward model to get the exact data `y_step` and plot:"
   ]
  },
  {
   "cell_type": "code",
   "execution_count": 27,
   "metadata": {
    "execution": {
     "iopub.execute_input": "2024-02-22T16:47:10.644608Z",
     "iopub.status.busy": "2024-02-22T16:47:10.643630Z",
     "iopub.status.idle": "2024-02-22T16:47:12.523687Z",
     "shell.execute_reply": "2024-02-22T16:47:12.523187Z"
    }
   },
   "outputs": [
    {
     "data": {
      "text/plain": [
       "[<matplotlib.lines.Line2D at 0x7fea3703e990>]"
      ]
     },
     "execution_count": 27,
     "metadata": {},
     "output_type": "execute_result"
    },
    {
     "data": {
      "image/png": "[encoded data removed]",
      "text/plain": [
       "<Figure size 640x480 with 1 Axes>"
      ]
     },
     "metadata": {},
     "output_type": "display_data"
    }
   ],
   "source": [
    "y_step = A(x=x_step)\n",
    "y_step.plot()"
   ]
  },
  {
   "attachments": {},
   "cell_type": "markdown",
   "metadata": {},
   "source": [
    "Code cell for plotting figure 3:"
   ]
  },
  {
   "cell_type": "code",
   "execution_count": 28,
   "metadata": {
    "execution": {
     "iopub.execute_input": "2024-02-22T16:47:12.527882Z",
     "iopub.status.busy": "2024-02-22T16:47:12.526795Z",
     "iopub.status.idle": "2024-02-22T16:47:18.278394Z",
     "shell.execute_reply": "2024-02-22T16:47:18.277908Z"
    }
   },
   "outputs": [
    {
     "data": {
      "image/png": "[encoded data removed]",
      "text/plain": [
       "<Figure size 700.787x175.197 with 3 Axes>"
      ]
     },
     "metadata": {},
     "output_type": "display_data"
    }
   ],
   "source": [
    "fig_dir = './figs/'\n",
    "version = 'v3'\n",
    "plot_figure3(fig_dir, version, x_step, y_step)"
   ]
  },
  {
   "attachments": {},
   "cell_type": "markdown",
   "metadata": {},
   "source": [
    "## 2.5. Specifying and solving the PDE-based Bayesian inverse problem"
   ]
  },
  {
   "cell_type": "markdown",
   "metadata": {},
   "source": [
    "Set up the noise level:"
   ]
  },
  {
   "cell_type": "code",
   "execution_count": 29,
   "metadata": {
    "execution": {
     "iopub.execute_input": "2024-02-22T16:47:18.282610Z",
     "iopub.status.busy": "2024-02-22T16:47:18.281535Z",
     "iopub.status.idle": "2024-02-22T16:47:18.285815Z",
     "shell.execute_reply": "2024-02-22T16:47:18.285364Z"
    }
   },
   "outputs": [],
   "source": [
    "# set up the noise level:\n",
    "noise_level = 0.1\n",
    "s_noise =1.0/np.sqrt(n_grid)* noise_level*np.linalg.norm(y_step)"
   ]
  },
  {
   "cell_type": "markdown",
   "metadata": {},
   "source": [
    "Create the prior and the data distributions:"
   ]
  },
  {
   "cell_type": "code",
   "execution_count": 30,
   "metadata": {
    "execution": {
     "iopub.execute_input": "2024-02-22T16:47:18.289469Z",
     "iopub.status.busy": "2024-02-22T16:47:18.288512Z",
     "iopub.status.idle": "2024-02-22T16:47:18.293554Z",
     "shell.execute_reply": "2024-02-22T16:47:18.293122Z"
    }
   },
   "outputs": [],
   "source": [
    "x = Gaussian(np.zeros(n_step), 1, geometry=G_step)\n",
    "y = Gaussian(A(x), s_noise**2, geometry=G_cont)"
   ]
  },
  {
   "cell_type": "code",
   "execution_count": 31,
   "metadata": {
    "execution": {
     "iopub.execute_input": "2024-02-22T16:47:18.297377Z",
     "iopub.status.busy": "2024-02-22T16:47:18.296382Z",
     "iopub.status.idle": "2024-02-22T16:47:18.301571Z",
     "shell.execute_reply": "2024-02-22T16:47:18.301128Z"
    }
   },
   "outputs": [
    {
     "name": "stdout",
     "output_type": "stream",
     "text": [
      "CUQI Gaussian. Conditioning variables ['x'].\n"
     ]
    }
   ],
   "source": [
    "print(y)"
   ]
  },
  {
   "cell_type": "markdown",
   "metadata": {},
   "source": [
    "Sample the prior:"
   ]
  },
  {
   "cell_type": "code",
   "execution_count": 32,
   "metadata": {
    "execution": {
     "iopub.execute_input": "2024-02-22T16:47:18.305339Z",
     "iopub.status.busy": "2024-02-22T16:47:18.304355Z",
     "iopub.status.idle": "2024-02-22T16:47:18.314553Z",
     "shell.execute_reply": "2024-02-22T16:47:18.314087Z"
    }
   },
   "outputs": [],
   "source": [
    "prior_samples = x.sample(5)"
   ]
  },
  {
   "cell_type": "code",
   "execution_count": 33,
   "metadata": {
    "execution": {
     "iopub.execute_input": "2024-02-22T16:47:18.318346Z",
     "iopub.status.busy": "2024-02-22T16:47:18.317376Z",
     "iopub.status.idle": "2024-02-22T16:47:19.822525Z",
     "shell.execute_reply": "2024-02-22T16:47:19.822057Z"
    }
   },
   "outputs": [
    {
     "data": {
      "text/plain": [
       "[<matplotlib.lines.Line2D at 0x7fea36dfd340>,\n",
       " <matplotlib.lines.Line2D at 0x7fea36dfd370>,\n",
       " <matplotlib.lines.Line2D at 0x7fea36dfc980>,\n",
       " <matplotlib.lines.Line2D at 0x7fea36dfd520>,\n",
       " <matplotlib.lines.Line2D at 0x7fea36dfd610>]"
      ]
     },
     "execution_count": 33,
     "metadata": {},
     "output_type": "execute_result"
    },
    {
     "data": {
      "image/png": "[encoded data removed]",
      "text/plain": [
       "<Figure size 640x480 with 1 Axes>"
      ]
     },
     "metadata": {},
     "output_type": "display_data"
    }
   ],
   "source": [
    "prior_samples.plot()"
   ]
  },
  {
   "cell_type": "markdown",
   "metadata": {},
   "source": [
    "Obtain a realization of the noisy data by sampling the data distribution conditioned on `x=x_step`:"
   ]
  },
  {
   "cell_type": "code",
   "execution_count": 34,
   "metadata": {
    "execution": {
     "iopub.execute_input": "2024-02-22T16:47:19.826677Z",
     "iopub.status.busy": "2024-02-22T16:47:19.825583Z",
     "iopub.status.idle": "2024-02-22T16:47:19.843411Z",
     "shell.execute_reply": "2024-02-22T16:47:19.842915Z"
    }
   },
   "outputs": [],
   "source": [
    "y_obs = y(x=x_step).sample()"
   ]
  },
  {
   "cell_type": "markdown",
   "metadata": {},
   "source": [
    "Create a joint distribution of the prior and the data distribution, and obtain the posterior from it:"
   ]
  },
  {
   "cell_type": "code",
   "execution_count": 35,
   "metadata": {
    "execution": {
     "iopub.execute_input": "2024-02-22T16:47:19.847536Z",
     "iopub.status.busy": "2024-02-22T16:47:19.846502Z",
     "iopub.status.idle": "2024-02-22T16:47:19.851228Z",
     "shell.execute_reply": "2024-02-22T16:47:19.850771Z"
    }
   },
   "outputs": [],
   "source": [
    "joint = JointDistribution(x, y)\n",
    "posterior = joint(y=y_obs) # condition on y=y_obs"
   ]
  },
  {
   "cell_type": "code",
   "execution_count": 36,
   "metadata": {
    "execution": {
     "iopub.execute_input": "2024-02-22T16:47:19.855159Z",
     "iopub.status.busy": "2024-02-22T16:47:19.854117Z",
     "iopub.status.idle": "2024-02-22T16:47:19.859668Z",
     "shell.execute_reply": "2024-02-22T16:47:19.859173Z"
    }
   },
   "outputs": [
    {
     "name": "stdout",
     "output_type": "stream",
     "text": [
      "JointDistribution(\n",
      "    Equation: \n",
      "\tp(x,y) = p(x)p(y|x)\n",
      "    Densities: \n",
      "\tx ~ CUQI Gaussian.\n",
      "\ty ~ CUQI Gaussian. Conditioning variables ['x'].\n",
      ")\n"
     ]
    }
   ],
   "source": [
    "print(joint)"
   ]
  },
  {
   "cell_type": "markdown",
   "metadata": {},
   "source": [
    "Create a component-wise Metropolis Hastings sampler `CWMH` for the posterior:"
   ]
  },
  {
   "cell_type": "code",
   "execution_count": 37,
   "metadata": {
    "execution": {
     "iopub.execute_input": "2024-02-22T16:47:19.863942Z",
     "iopub.status.busy": "2024-02-22T16:47:19.862788Z",
     "iopub.status.idle": "2024-02-22T16:47:19.867220Z",
     "shell.execute_reply": "2024-02-22T16:47:19.866762Z"
    }
   },
   "outputs": [],
   "source": [
    "my_sampler = CWMH(posterior)"
   ]
  },
  {
   "cell_type": "markdown",
   "metadata": {},
   "source": [
    "Sample the posterior:"
   ]
  },
  {
   "cell_type": "code",
   "execution_count": 38,
   "metadata": {
    "execution": {
     "iopub.execute_input": "2024-02-22T16:47:19.871253Z",
     "iopub.status.busy": "2024-02-22T16:47:19.870193Z",
     "iopub.status.idle": "2024-02-22T17:17:31.080930Z",
     "shell.execute_reply": "2024-02-22T17:17:31.080198Z"
    }
   },
   "outputs": [
    {
     "name": "stdout",
     "output_type": "stream",
     "text": [
      "Sample 50000 / 50000\n",
      "\n",
      "Average acceptance rate all components: 0.047606666666666665 \n",
      "\n"
     ]
    }
   ],
   "source": [
    "posterior_samples = my_sampler.sample_adapt(50000)"
   ]
  },
  {
   "attachments": {},
   "cell_type": "markdown",
   "metadata": {},
   "source": [
    "## 2.6. Posterior samples analysis, and visualization"
   ]
  },
  {
   "cell_type": "markdown",
   "metadata": {},
   "source": [
    "Plot selected samples:"
   ]
  },
  {
   "cell_type": "code",
   "execution_count": 39,
   "metadata": {
    "execution": {
     "iopub.execute_input": "2024-02-22T17:17:31.085849Z",
     "iopub.status.busy": "2024-02-22T17:17:31.084708Z",
     "iopub.status.idle": "2024-02-22T17:17:31.294133Z",
     "shell.execute_reply": "2024-02-22T17:17:31.293608Z"
    }
   },
   "outputs": [
    {
     "data": {
      "text/plain": [
       "[<matplotlib.lines.Line2D at 0x7fea34c950d0>,\n",
       " <matplotlib.lines.Line2D at 0x7fea34c95100>,\n",
       " <matplotlib.lines.Line2D at 0x7fea34c951f0>,\n",
       " <matplotlib.lines.Line2D at 0x7fea34c952b0>,\n",
       " <matplotlib.lines.Line2D at 0x7fea36e1bec0>]"
      ]
     },
     "execution_count": 39,
     "metadata": {},
     "output_type": "execute_result"
    },
    {
     "data": {
      "image/png": "[encoded data removed]",
      "text/plain": [
       "<Figure size 640x480 with 1 Axes>"
      ]
     },
     "metadata": {},
     "output_type": "display_data"
    }
   ],
   "source": [
    "samples_indices = [2000, 3000, 4000, 5000, 6000]\n",
    "posterior_samples.plot(samples_indices)"
   ]
  },
  {
   "cell_type": "markdown",
   "metadata": {},
   "source": [
    "Plot the $95\\%$ credible interval:"
   ]
  },
  {
   "cell_type": "code",
   "execution_count": 40,
   "metadata": {
    "execution": {
     "iopub.execute_input": "2024-02-22T17:17:31.298523Z",
     "iopub.status.busy": "2024-02-22T17:17:31.297382Z",
     "iopub.status.idle": "2024-02-22T17:17:32.057887Z",
     "shell.execute_reply": "2024-02-22T17:17:32.057366Z"
    }
   },
   "outputs": [
    {
     "data": {
      "text/plain": [
       "[<matplotlib.lines.Line2D at 0x7fea34d04620>,\n",
       " <matplotlib.lines.Line2D at 0x7fea34d04830>,\n",
       " <matplotlib.collections.PolyCollection at 0x7fea37062210>]"
      ]
     },
     "execution_count": 40,
     "metadata": {},
     "output_type": "execute_result"
    },
    {
     "data": {
      "image/png": "[encoded data removed]",
      "text/plain": [
       "<Figure size 640x480 with 1 Axes>"
      ]
     },
     "metadata": {},
     "output_type": "display_data"
    }
   ],
   "source": [
    "posterior_samples.plot_ci(95, exact=x_step)"
   ]
  },
  {
   "attachments": {},
   "cell_type": "markdown",
   "metadata": {},
   "source": [
    "Code cell for plotting figure 4:"
   ]
  },
  {
   "cell_type": "code",
   "execution_count": 41,
   "metadata": {
    "execution": {
     "iopub.execute_input": "2024-02-22T17:17:32.062489Z",
     "iopub.status.busy": "2024-02-22T17:17:32.061262Z",
     "iopub.status.idle": "2024-02-22T17:17:41.135219Z",
     "shell.execute_reply": "2024-02-22T17:17:41.134712Z"
    }
   },
   "outputs": [
    {
     "data": {
      "image/png": "[encoded data removed]",
      "text/plain": [
       "<Figure size 700.787x354.331 with 6 Axes>"
      ]
     },
     "metadata": {},
     "output_type": "display_data"
    }
   ],
   "source": [
    "fig_dir = './figs/'\n",
    "version = 'v6'\n",
    "plot_figure4(fig_dir, version, G_step, \n",
    "                 prior_samples, posterior_samples,\n",
    "                 x_step, y_step, y_obs)"
   ]
  }
 ],
 "metadata": {
  "kernelspec": {
   "display_name": "Python 3.8.8 ('base')",
   "language": "python",
   "name": "python3"
  },
  "language_info": {
   "codemirror_mode": {
    "name": "ipython",
    "version": 3
   },
   "file_extension": ".py",
   "mimetype": "text/x-python",
   "name": "python",
   "nbconvert_exporter": "python",
   "pygments_lexer": "ipython3",
   "version": "3.12.2"
  },
  "vscode": {
   "interpreter": {
    "hash": "4ff4ac6af9578637e0e623c40bf41129eb04e2c9abec3a9480d43324f3a3fec8"
   }
  }
 },
 "nbformat": 4,
 "nbformat_minor": 4
}
