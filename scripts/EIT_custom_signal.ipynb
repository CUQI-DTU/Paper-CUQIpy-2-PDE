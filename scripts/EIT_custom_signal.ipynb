{
  "nbformat": 4,
  "nbformat_minor": 0,
  "metadata": {
    "colab": {
      "provenance": []
    },
    "kernelspec": {
      "name": "python3",
      "display_name": "Python 3"
    },
    "language_info": {
      "name": "python"
    }
  },
  "cells": [
    {
      "cell_type": "code",
      "execution_count": 1,
      "metadata": {
        "id": "Nw0ZjCW6tWSQ"
      },
      "outputs": [],
      "source": [
        "try:\n",
        "    import dolfin\n",
        "except ImportError:\n",
        "    !wget \"https://fem-on-colab.github.io/releases/fenics-install.sh\" -O \"/tmp/fenics-install.sh\" && bash \"/tmp/fenics-install.sh\"\n",
        "    import dolfin"
      ]
    },
    {
      "cell_type": "code",
      "source": [
        "\n",
        "!pip install setuptools --upgrade\n",
        "\n",
        "!pip install git+https://github.com/CUQI-DTU/CUQIpy-FEniCS.git@sprint13_observation_bug#egg=CUQIpy-FEniCS"
      ],
      "metadata": {
        "colab": {
          "base_uri": "https://localhost:8080/",
          "height": 1000
        },
        "id": "0e2DY8JmFzss",
        "outputId": "52d34456-53d4-4991-b85f-6d59899d2780"
      },
      "execution_count": 2,
      "outputs": [
        {
          "output_type": "stream",
          "name": "stdout",
          "text": [
            "Looking in indexes: https://pypi.org/simple, https://us-python.pkg.dev/colab-wheels/public/simple/\n",
            "Requirement already satisfied: setuptools in /usr/local/lib/python3.7/dist-packages (57.4.0)\n",
            "Collecting setuptools\n",
            "  Downloading setuptools-65.5.0-py3-none-any.whl (1.2 MB)\n",
            "\u001b[K     |████████████████████████████████| 1.2 MB 5.1 MB/s \n",
            "\u001b[?25hInstalling collected packages: setuptools\n",
            "  Attempting uninstall: setuptools\n",
            "    Found existing installation: setuptools 57.4.0\n",
            "    Uninstalling setuptools-57.4.0:\n",
            "      Successfully uninstalled setuptools-57.4.0\n",
            "\u001b[31mERROR: pip's dependency resolver does not currently take into account all the packages that are installed. This behaviour is the source of the following dependency conflicts.\n",
            "ipython 7.9.0 requires jedi>=0.10, which is not installed.\n",
            "numba 0.56.2 requires setuptools<60, but you have setuptools 65.5.0 which is incompatible.\u001b[0m\n",
            "Successfully installed setuptools-65.5.0\n"
          ]
        },
        {
          "output_type": "display_data",
          "data": {
            "application/vnd.colab-display-data+json": {
              "pip_warning": {
                "packages": [
                  "pkg_resources"
                ]
              }
            }
          },
          "metadata": {}
        },
        {
          "output_type": "stream",
          "name": "stdout",
          "text": [
            "Looking in indexes: https://pypi.org/simple, https://us-python.pkg.dev/colab-wheels/public/simple/\n",
            "Collecting CUQIpy-FEniCS\n",
            "  Cloning https://github.com/CUQI-DTU/CUQIpy-FEniCS.git (to revision sprint13_observation_bug) to /tmp/pip-install-x49diwer/cuqipy-fenics_99d4ffc754604bad9106d7a6e2eb10d5\n",
            "  Running command git clone -q https://github.com/CUQI-DTU/CUQIpy-FEniCS.git /tmp/pip-install-x49diwer/cuqipy-fenics_99d4ffc754604bad9106d7a6e2eb10d5\n",
            "  Running command git checkout -b sprint13_observation_bug --track origin/sprint13_observation_bug\n",
            "  Switched to a new branch 'sprint13_observation_bug'\n",
            "  Branch 'sprint13_observation_bug' set up to track remote branch 'sprint13_observation_bug' from 'origin'.\n",
            "  Installing build dependencies ... \u001b[?25l\u001b[?25hdone\n",
            "  Getting requirements to build wheel ... \u001b[?25l\u001b[?25hdone\n",
            "    Preparing wheel metadata ... \u001b[?25l\u001b[?25hdone\n",
            "Requirement already satisfied: cuqipy in /usr/local/lib/python3.7/dist-packages (from CUQIpy-FEniCS) (0.1.3)\n",
            "Requirement already satisfied: numpy>=1.17.0 in /usr/local/lib/python3.7/dist-packages (from cuqipy->CUQIpy-FEniCS) (1.21.6)\n",
            "Requirement already satisfied: scipy in /usr/local/lib/python3.7/dist-packages (from cuqipy->CUQIpy-FEniCS) (1.7.3)\n",
            "Requirement already satisfied: arviz in /usr/local/lib/python3.7/dist-packages (from cuqipy->CUQIpy-FEniCS) (0.12.1)\n",
            "Requirement already satisfied: matplotlib in /usr/local/lib/python3.7/dist-packages (from cuqipy->CUQIpy-FEniCS) (3.2.2)\n",
            "Requirement already satisfied: typing-extensions>=3.7.4.3 in /usr/local/lib/python3.7/dist-packages (from arviz->cuqipy->CUQIpy-FEniCS) (4.1.1)\n",
            "Requirement already satisfied: xarray>=0.16.1 in /usr/local/lib/python3.7/dist-packages (from arviz->cuqipy->CUQIpy-FEniCS) (0.20.2)\n",
            "Requirement already satisfied: netcdf4 in /usr/local/lib/python3.7/dist-packages (from arviz->cuqipy->CUQIpy-FEniCS) (1.6.1)\n",
            "Requirement already satisfied: packaging in /usr/local/lib/python3.7/dist-packages (from arviz->cuqipy->CUQIpy-FEniCS) (21.3)\n",
            "Requirement already satisfied: setuptools>=38.4 in /usr/local/lib/python3.7/dist-packages (from arviz->cuqipy->CUQIpy-FEniCS) (65.5.0)\n",
            "Requirement already satisfied: xarray-einstats>=0.2 in /usr/local/lib/python3.7/dist-packages (from arviz->cuqipy->CUQIpy-FEniCS) (0.2.2)\n",
            "Requirement already satisfied: pandas>=0.23 in /usr/local/lib/python3.7/dist-packages (from arviz->cuqipy->CUQIpy-FEniCS) (1.3.5)\n",
            "Requirement already satisfied: cycler>=0.10 in /usr/local/lib/python3.7/dist-packages (from matplotlib->cuqipy->CUQIpy-FEniCS) (0.11.0)\n",
            "Requirement already satisfied: pyparsing!=2.0.4,!=2.1.2,!=2.1.6,>=2.0.1 in /usr/local/lib/python3.7/dist-packages (from matplotlib->cuqipy->CUQIpy-FEniCS) (3.0.9)\n",
            "Requirement already satisfied: python-dateutil>=2.1 in /usr/local/lib/python3.7/dist-packages (from matplotlib->cuqipy->CUQIpy-FEniCS) (2.8.2)\n",
            "Requirement already satisfied: kiwisolver>=1.0.1 in /usr/local/lib/python3.7/dist-packages (from matplotlib->cuqipy->CUQIpy-FEniCS) (1.4.4)\n",
            "Requirement already satisfied: pytz>=2017.3 in /usr/local/lib/python3.7/dist-packages (from pandas>=0.23->arviz->cuqipy->CUQIpy-FEniCS) (2022.4)\n",
            "Requirement already satisfied: six>=1.5 in /usr/local/lib/python3.7/dist-packages (from python-dateutil>=2.1->matplotlib->cuqipy->CUQIpy-FEniCS) (1.15.0)\n",
            "Requirement already satisfied: importlib-metadata in /usr/local/lib/python3.7/dist-packages (from xarray>=0.16.1->arviz->cuqipy->CUQIpy-FEniCS) (5.0.0)\n",
            "Requirement already satisfied: zipp>=0.5 in /usr/local/lib/python3.7/dist-packages (from importlib-metadata->xarray>=0.16.1->arviz->cuqipy->CUQIpy-FEniCS) (3.9.0)\n",
            "Requirement already satisfied: cftime in /usr/local/lib/python3.7/dist-packages (from netcdf4->arviz->cuqipy->CUQIpy-FEniCS) (1.6.2)\n",
            "Building wheels for collected packages: CUQIpy-FEniCS\n",
            "  Building wheel for CUQIpy-FEniCS (PEP 517) ... \u001b[?25l\u001b[?25hdone\n",
            "  Created wheel for CUQIpy-FEniCS: filename=CUQIpy_FEniCS-0.1.1.post0.dev1-py3-none-any.whl size=35690 sha256=58708b0e6ccedc458d72d5c2c3925855c5e9d29807a229c223e38c436d6d39c5\n",
            "  Stored in directory: /tmp/pip-ephem-wheel-cache-226w8hja/wheels/5a/c6/fa/37e6a13485f74cfb5e003a52d7aa09734efe22d7d317248f29\n",
            "Successfully built CUQIpy-FEniCS\n",
            "Installing collected packages: CUQIpy-FEniCS\n",
            "  Attempting uninstall: CUQIpy-FEniCS\n",
            "    Found existing installation: CUQIpy-FEniCS 0.1.1\n",
            "    Uninstalling CUQIpy-FEniCS-0.1.1:\n",
            "      Successfully uninstalled CUQIpy-FEniCS-0.1.1\n",
            "Successfully installed CUQIpy-FEniCS-0.1.1.post0.dev1\n"
          ]
        }
      ]
    },
    {
      "cell_type": "code",
      "source": [
        "pip install cuqipy"
      ],
      "metadata": {
        "colab": {
          "base_uri": "https://localhost:8080/"
        },
        "id": "yhO2bTtMteFN",
        "outputId": "512a9201-8450-4eb2-cb40-1c7e7cc4adb7"
      },
      "execution_count": 3,
      "outputs": [
        {
          "output_type": "stream",
          "name": "stdout",
          "text": [
            "Looking in indexes: https://pypi.org/simple, https://us-python.pkg.dev/colab-wheels/public/simple/\n",
            "Requirement already satisfied: cuqipy in /usr/local/lib/python3.7/dist-packages (0.1.3)\n",
            "Requirement already satisfied: scipy in /usr/local/lib/python3.7/dist-packages (from cuqipy) (1.7.3)\n",
            "Requirement already satisfied: arviz in /usr/local/lib/python3.7/dist-packages (from cuqipy) (0.12.1)\n",
            "Requirement already satisfied: numpy>=1.17.0 in /usr/local/lib/python3.7/dist-packages (from cuqipy) (1.21.6)\n",
            "Requirement already satisfied: matplotlib in /usr/local/lib/python3.7/dist-packages (from cuqipy) (3.2.2)\n",
            "Requirement already satisfied: xarray-einstats>=0.2 in /usr/local/lib/python3.7/dist-packages (from arviz->cuqipy) (0.2.2)\n",
            "Requirement already satisfied: typing-extensions>=3.7.4.3 in /usr/local/lib/python3.7/dist-packages (from arviz->cuqipy) (4.1.1)\n",
            "Requirement already satisfied: netcdf4 in /usr/local/lib/python3.7/dist-packages (from arviz->cuqipy) (1.6.1)\n",
            "Requirement already satisfied: packaging in /usr/local/lib/python3.7/dist-packages (from arviz->cuqipy) (21.3)\n",
            "Requirement already satisfied: setuptools>=38.4 in /usr/local/lib/python3.7/dist-packages (from arviz->cuqipy) (65.5.0)\n",
            "Requirement already satisfied: xarray>=0.16.1 in /usr/local/lib/python3.7/dist-packages (from arviz->cuqipy) (0.20.2)\n",
            "Requirement already satisfied: pandas>=0.23 in /usr/local/lib/python3.7/dist-packages (from arviz->cuqipy) (1.3.5)\n",
            "Requirement already satisfied: kiwisolver>=1.0.1 in /usr/local/lib/python3.7/dist-packages (from matplotlib->cuqipy) (1.4.4)\n",
            "Requirement already satisfied: pyparsing!=2.0.4,!=2.1.2,!=2.1.6,>=2.0.1 in /usr/local/lib/python3.7/dist-packages (from matplotlib->cuqipy) (3.0.9)\n",
            "Requirement already satisfied: python-dateutil>=2.1 in /usr/local/lib/python3.7/dist-packages (from matplotlib->cuqipy) (2.8.2)\n",
            "Requirement already satisfied: cycler>=0.10 in /usr/local/lib/python3.7/dist-packages (from matplotlib->cuqipy) (0.11.0)\n",
            "Requirement already satisfied: pytz>=2017.3 in /usr/local/lib/python3.7/dist-packages (from pandas>=0.23->arviz->cuqipy) (2022.4)\n",
            "Requirement already satisfied: six>=1.5 in /usr/local/lib/python3.7/dist-packages (from python-dateutil>=2.1->matplotlib->cuqipy) (1.15.0)\n",
            "Requirement already satisfied: importlib-metadata in /usr/local/lib/python3.7/dist-packages (from xarray>=0.16.1->arviz->cuqipy) (5.0.0)\n",
            "Requirement already satisfied: zipp>=0.5 in /usr/local/lib/python3.7/dist-packages (from importlib-metadata->xarray>=0.16.1->arviz->cuqipy) (3.9.0)\n",
            "Requirement already satisfied: cftime in /usr/local/lib/python3.7/dist-packages (from netcdf4->arviz->cuqipy) (1.6.2)\n"
          ]
        }
      ]
    },
    {
      "cell_type": "code",
      "source": [
        "pip install cuqipy_fenics"
      ],
      "metadata": {
        "colab": {
          "base_uri": "https://localhost:8080/"
        },
        "id": "3wgGccz5uEPl",
        "outputId": "a7f65104-ca9a-441e-868d-aa8cb1c0c073"
      },
      "execution_count": 4,
      "outputs": [
        {
          "output_type": "stream",
          "name": "stdout",
          "text": [
            "Looking in indexes: https://pypi.org/simple, https://us-python.pkg.dev/colab-wheels/public/simple/\n",
            "Requirement already satisfied: cuqipy_fenics in /usr/local/lib/python3.7/dist-packages (0.1.1.post0.dev1)\n",
            "Requirement already satisfied: cuqipy in /usr/local/lib/python3.7/dist-packages (from cuqipy_fenics) (0.1.3)\n",
            "Requirement already satisfied: scipy in /usr/local/lib/python3.7/dist-packages (from cuqipy->cuqipy_fenics) (1.7.3)\n",
            "Requirement already satisfied: matplotlib in /usr/local/lib/python3.7/dist-packages (from cuqipy->cuqipy_fenics) (3.2.2)\n",
            "Requirement already satisfied: numpy>=1.17.0 in /usr/local/lib/python3.7/dist-packages (from cuqipy->cuqipy_fenics) (1.21.6)\n",
            "Requirement already satisfied: arviz in /usr/local/lib/python3.7/dist-packages (from cuqipy->cuqipy_fenics) (0.12.1)\n",
            "Requirement already satisfied: pandas>=0.23 in /usr/local/lib/python3.7/dist-packages (from arviz->cuqipy->cuqipy_fenics) (1.3.5)\n",
            "Requirement already satisfied: netcdf4 in /usr/local/lib/python3.7/dist-packages (from arviz->cuqipy->cuqipy_fenics) (1.6.1)\n",
            "Requirement already satisfied: xarray-einstats>=0.2 in /usr/local/lib/python3.7/dist-packages (from arviz->cuqipy->cuqipy_fenics) (0.2.2)\n",
            "Requirement already satisfied: xarray>=0.16.1 in /usr/local/lib/python3.7/dist-packages (from arviz->cuqipy->cuqipy_fenics) (0.20.2)\n",
            "Requirement already satisfied: typing-extensions>=3.7.4.3 in /usr/local/lib/python3.7/dist-packages (from arviz->cuqipy->cuqipy_fenics) (4.1.1)\n",
            "Requirement already satisfied: packaging in /usr/local/lib/python3.7/dist-packages (from arviz->cuqipy->cuqipy_fenics) (21.3)\n",
            "Requirement already satisfied: setuptools>=38.4 in /usr/local/lib/python3.7/dist-packages (from arviz->cuqipy->cuqipy_fenics) (65.5.0)\n",
            "Requirement already satisfied: pyparsing!=2.0.4,!=2.1.2,!=2.1.6,>=2.0.1 in /usr/local/lib/python3.7/dist-packages (from matplotlib->cuqipy->cuqipy_fenics) (3.0.9)\n",
            "Requirement already satisfied: kiwisolver>=1.0.1 in /usr/local/lib/python3.7/dist-packages (from matplotlib->cuqipy->cuqipy_fenics) (1.4.4)\n",
            "Requirement already satisfied: python-dateutil>=2.1 in /usr/local/lib/python3.7/dist-packages (from matplotlib->cuqipy->cuqipy_fenics) (2.8.2)\n",
            "Requirement already satisfied: cycler>=0.10 in /usr/local/lib/python3.7/dist-packages (from matplotlib->cuqipy->cuqipy_fenics) (0.11.0)\n",
            "Requirement already satisfied: pytz>=2017.3 in /usr/local/lib/python3.7/dist-packages (from pandas>=0.23->arviz->cuqipy->cuqipy_fenics) (2022.4)\n",
            "Requirement already satisfied: six>=1.5 in /usr/local/lib/python3.7/dist-packages (from python-dateutil>=2.1->matplotlib->cuqipy->cuqipy_fenics) (1.15.0)\n",
            "Requirement already satisfied: importlib-metadata in /usr/local/lib/python3.7/dist-packages (from xarray>=0.16.1->arviz->cuqipy->cuqipy_fenics) (5.0.0)\n",
            "Requirement already satisfied: zipp>=0.5 in /usr/local/lib/python3.7/dist-packages (from importlib-metadata->xarray>=0.16.1->arviz->cuqipy->cuqipy_fenics) (3.9.0)\n",
            "Requirement already satisfied: cftime in /usr/local/lib/python3.7/dist-packages (from netcdf4->arviz->cuqipy->cuqipy_fenics) (1.6.2)\n"
          ]
        }
      ]
    },
    {
      "cell_type": "code",
      "source": [
        "import dolfin as dl\n",
        "import numpy as np\n",
        "import cuqipy_fenics\n",
        "import cuqi\n",
        "import mshr\n",
        "import matplotlib.pyplot as plt"
      ],
      "metadata": {
        "id": "bVl4xkDSuGWv"
      },
      "execution_count": 5,
      "outputs": []
    },
    {
      "cell_type": "code",
      "source": [
        "#%% 1.1 Define domain and mesh\n",
        "domain = mshr.Circle(dl.Point(0,0),1)\n",
        "mesh = mshr.generate_mesh(domain, 20)\n",
        "\n",
        "#%% 1.2 Define function spaces \n",
        "parameter_space = dl.FunctionSpace(mesh, \"CG\", 1)\n",
        "solution_space = dl.FunctionSpace(mesh, \"CG\", 1)\n",
        "\n",
        "#%% 1.3 Define boundary input as source term\n",
        "class boundary_input(dl.UserExpression):\n",
        "    def set_freq(self, freq=1.):\n",
        "        self.freq = freq\n",
        "    def eval(self, values, x, tag='sin'):\n",
        "        theta = np.arctan2(x[1], x[0])\n",
        "        values[0] = np.sin(self.freq*theta)\n",
        "\n",
        "boundary = lambda x, on_boundary: on_boundary\n",
        "\n",
        "FEM_el = solution_space.ufl_element()\n",
        "\n",
        "bc_func = boundary_input(element=FEM_el)\n",
        "bc_func.set_freq(freq=2.)\n",
        "\n",
        "bc = dl.DirichletBC(solution_space, bc_func, boundary)\n",
        "\n",
        "w = dl.Function(solution_space)\n",
        "bc.apply(w.vector())\n",
        "\n",
        "#%% 1.3.0 Defining custom conductivity with circular inclusions\n",
        "class custom_field(dl.UserExpression):\n",
        "    def set_params(self,cx=np.array([0.5,-0.5]),cy=np.array([0.5,0.6]), r = np.array([0.2,0.1]) ):\n",
        "        self.cx = cx\n",
        "        self.cy = cy\n",
        "        self.r2 = r**2\n",
        "\n",
        "    def eval(self,values,x):\n",
        "        if( (x[0]-self.cx[0])**2 + (x[1]-self.cy[0])**2 < self.r2[0] ):\n",
        "            values[0] = 10.\n",
        "        elif( (x[0]-self.cx[1])**2 + (x[1]-self.cy[1])**2 < self.r2[1] ):\n",
        "            values[0] = 10.\n",
        "        else:\n",
        "            values[0] = 1.\n",
        "\n",
        "FEM_el = parameter_space.ufl_element()\n",
        "kappa_custom = custom_field(element=FEM_el)\n",
        "kappa_custom.set_params()\n",
        "\n",
        "#%% 1.3.1 Defining zero boundary for the extended problem\n",
        "u0 = dl.Constant('0.0')\n",
        "zero_bc = dl.DirichletBC(solution_space, u0, boundary)\n",
        "\n",
        "#%% 1.4 Define Poisson problem form\n",
        "def form(vec,u,v):\n",
        "    kappa = dl.Function(parameter_space)\n",
        "    kappa.vector().set_local( vec )\n",
        "    return dl.inner( kappa*dl.grad(u), dl.grad(v) )*dl.dx + dl.inner( dl.grad(w), dl.grad(v) )*dl.dx\n",
        "\n",
        "#%% 1.6 Define observation map (applied to the solution to generate the \n",
        "# observables)\n",
        "\n",
        "#%% 1.6.1 extracting the index of boundary elements\n",
        "dummy = dl.Function(solution_space)\n",
        "dummy.vector().set_local( np.ones_like( dummy.vector().get_local() ) )\n",
        "zero_bc.apply( dummy.vector() )\n",
        "bnd_idx = np.argwhere( dummy.vector().get_local() == 0 ).flatten()\n",
        "\n",
        "normal_vec = dl.FacetNormal( mesh )\n",
        "tests = dl.TestFunction( solution_space )\n",
        "\n",
        "#u = dl.TrialFunction(solution_space)\n",
        "#v = dl.TestFunction(solution_space)\n",
        "\n",
        "#A = dl.lhs(form(1,u,v))\n",
        "#b = dl.rhs(form(1,u,v))\n",
        "\n",
        "#solution = dl.Function(solution_space)\n",
        "#dl.solve(A==b,solution,zero_bc)\n",
        "#dl.plot(solution+ w)\n",
        "\n",
        "def obs_func(kappa, u):\n",
        "  obs_form = dl.inner( dl.grad(u + w), normal_vec )*tests*dl.ds\n",
        "\n",
        "  obs = dl.assemble( obs_form )\n",
        "  return obs.get_local()[bnd_idx]\n",
        "\n",
        "#%% 2.1 Create the domain geometry\n",
        "# 2.1.1 The space on which the Bayesian parameters are defined\n",
        "domain_geometry = cuqipy_fenics.geometry.FEniCSContinuous(parameter_space)\n",
        "\n",
        "#%% 2.2 Create the range geomtry \n",
        "range_geometry = cuqi.geometry.Continuous1D(94)\n",
        "\n",
        "#%% 2.3 Create CUQI PDE (which encapsulates the FEniCS formulation\n",
        "# of the PDE)\n",
        "PDE = cuqipy_fenics.pde.SteadyStateLinearFEniCSPDE( form, mesh, solution_space, parameter_space,zero_bc, observation_operator=obs_func)\n",
        "\n",
        "#%% 2.4 Create CUQI model\n",
        "model = cuqi.model.PDEModel(PDE,range_geometry,domain_geometry)\n",
        "\n",
        "#%% 2.6 Define the exact solution\n",
        "func = dl.interpolate( kappa_custom, parameter_space )\n",
        "exactSolution = cuqi.samples.CUQIarray(func.vector().get_local(), is_par=False, geometry= domain_geometry)\n",
        "\n",
        "#%% 2.7 Generate exact data \n",
        "b_exact = model(exactSolution)\n"
      ],
      "metadata": {
        "id": "DIxnVv-5uQEl"
      },
      "execution_count": 11,
      "outputs": []
    },
    {
      "cell_type": "code",
      "source": [],
      "metadata": {
        "id": "wUjrSqEuwHdo"
      },
      "execution_count": 6,
      "outputs": []
    }
  ]
}