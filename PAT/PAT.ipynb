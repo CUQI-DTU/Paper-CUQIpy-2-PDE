{
 "cells": [
  {
   "cell_type": "markdown",
   "metadata": {},
   "source": [
    "# Code for CUQIpy paper 2, section 5. Photo-acoustic tomography through user-defined PDE models\n",
    "\n",
    "**Note: The exact paper figures are shown at the very end of this notebook.**\n",
    "\n",
    "This notebook demonstrates setting up a 1D photo-acoustic tomography (PAT) problem in `CUQIpy`. It defines the forward model as a user-defined `CUQIpy` model. It uses the plug-in `CUQIpy-FEniCS` to parametrize the prior and to interface the forward model with `CUQIpy` Bayesian modeling, sampling, and visualization tools. We are after inferring a 1D initial pressure profile from time series measurements on the left and the right boundaries of the domain, in the case of full data configuration, and from time series measurements on the left boundary only, in the case of partial data configuration. The notebook demonstrates creating the user-defined `CUQIpy` model, prior, likelihood, and posterior. It also demonstrates sampling using `CUQIpy` `pCN` sampler and visualizes the results. Here we parametrize the prior using a combination of KL expansion and scaling."
   ]
  },
  {
   "cell_type": "markdown",
   "metadata": {},
   "source": [
    "First, we import the required libraries and classes."
   ]
  },
  {
   "cell_type": "code",
   "execution_count": 1,
   "metadata": {},
   "outputs": [],
   "source": [
    "import numpy as np\n",
    "import os\n",
    "from dolfin import *\n",
    "import matplotlib.pyplot as plt\n",
    "from wave import wave\n",
    "import cuqi\n",
    "import cuqipy_fenics\n",
    "from cuqi.geometry import Continuous2D, Continuous1D\n",
    "from cuqi.distribution import Gaussian, JointDistribution\n",
    "from cuqi.samples import Samples\n",
    "from cuqi.sampler import pCN\n",
    "from cuqi.array import CUQIarray\n",
    "from cuqi.model import Model\n",
    "from cuqipy_fenics.geometry import FEniCSContinuous, MaternKLExpansion,\\\n",
    "FEniCSMappedGeometry\n",
    "from figures_util import plot_figure10, plot_figure11, plot_figure12"
   ]
  },
  {
   "cell_type": "markdown",
   "metadata": {},
   "source": [
    "Print CUQIpy and CUQIpy-FEniCS versions:"
   ]
  },
  {
   "cell_type": "code",
   "execution_count": 2,
   "metadata": {},
   "outputs": [
    {
     "name": "stdout",
     "output_type": "stream",
     "text": [
      "0+untagged.2848.gef3831a\n",
      "0+untagged.241.gb6af1ba\n"
     ]
    }
   ],
   "source": [
    "print(cuqi.__version__)\n",
    "print(cuqipy_fenics.__version__)"
   ]
  },
  {
   "cell_type": "markdown",
   "metadata": {},
   "source": [
    "Define a function `create_domain_geometry` that creates the domain geometry of the PAT problem which defines the scaling and KL parameterization of the prior."
   ]
  },
  {
   "cell_type": "code",
   "execution_count": null,
   "metadata": {},
   "outputs": [],
   "source": [
    "def create_domain_geometry(parameter_space):\n",
    "    \"\"\"\n",
    "    This function creates the domain geometry for the PAT problem.\n",
    "    \"\"\"\n",
    "    # The geometry on which the Bayesian parameters are defined corresponds to\n",
    "    # the FEM parameterization\n",
    "    G_FEM = FEniCSContinuous(parameter_space)\n",
    "    # The KL parameterization\n",
    "    G_KL = MaternKLExpansion(G_FEM, length_scale=0.1, nu=0.75, num_terms=100)\n",
    "    \n",
    "    # This map scales the output of G_KL with a constant factor\n",
    "    def prior_map(func):\n",
    "        dofs = func.vector().get_local()\n",
    "        updated_dofs = 15*dofs\n",
    "        func.vector().set_local(updated_dofs)\n",
    "        return func\n",
    "    \n",
    "    # Defining the domain geometry\n",
    "    G = FEniCSMappedGeometry(G_KL, map=prior_map)\n",
    "    return G"
   ]
  },
  {
   "cell_type": "markdown",
   "metadata": {},
   "source": [
    "Define a function `run_PAT` that, for a given configuration of the data (`full_data=True` for full data case or `full_data=False` for partial data case), reads the noisy data from folder `obs`, sets up the PAT Bayesian inverse problem, samples the posterior, and visualizes and saves the results. The results are saved in a folder named `stat`."
   ]
  },
  {
   "cell_type": "code",
   "execution_count": null,
   "metadata": {},
   "outputs": [],
   "source": [
    "def run_PAT(full_data, Ns=50000, Nb=0, Nt=100, seed=0):\n",
    "    # Fix the random seed for reproducibility\n",
    "    np.random.seed(seed)\n",
    "    \n",
    "    # This script solve the Photo-Acoustic with full or partial boundary data\n",
    "    full_data = True # if false, data are obtained only at the left boundary\n",
    "                      # otherwise, data are obtained on both boundaries. \n",
    "    \n",
    "    #%% 1 Setting up FEniCS function spaces\n",
    "    mesh = UnitIntervalMesh(120) # defining the mesh\n",
    "    parameter_space = FunctionSpace(mesh,'CG', 1) # defining the function space\n",
    "    \n",
    "    #%% 2 Setting domain geometry\n",
    "    G = create_domain_geometry(parameter_space)\n",
    "    \n",
    "    #%% 3 Defining the photo-acoustic forward operator\n",
    "    # Loading the blackbox forward operator\n",
    "    problem = wave()\n",
    "    # The function `PAT` that maps the initial pressure to the boundary\n",
    "    # observations\n",
    "    if full_data:\n",
    "        PAT = problem.forward_full\n",
    "        r = 2 # number of sensors\n",
    "        label = 'full'\n",
    "    else:\n",
    "        PAT = problem.forward_half\n",
    "        r = 1 # number of sensors\n",
    "        label = 'half'\n",
    "    \n",
    "    # Loading the data signal\n",
    "    obs_data = np.load( './obs/'+label+'_boundary_5per.npz' )\n",
    "    \n",
    "    y_obs = obs_data['data']\n",
    "    s_noise = np.sqrt(obs_data['sigma2'].reshape(-1)[0])\n",
    "    b_exact = obs_data['b_exact'].reshape(251,-1)\n",
    "    \n",
    "    #%% 4 Defining the range geometry\n",
    "    m = 251 # dimension of the observation\n",
    "    obs_times = np.linspace(0,1,m)\n",
    "    \n",
    "    if full_data:\n",
    "        obs_locations = np.array([0.001, 0.999])\n",
    "    else:\n",
    "        obs_locations = np.array([0.001])\n",
    "    \n",
    "    G_cont = Continuous2D((obs_times, obs_locations))\n",
    "    \n",
    "    #%% 5 Defining the CUQIpy forward operator\n",
    "    A = Model(PAT, domain_geometry=G, range_geometry=G_cont)\n",
    "    \n",
    "    #%% 6 Creating prior distribution\n",
    "    x = Gaussian(0, 1, geometry=G)\n",
    "    \n",
    "    #%% 7 Creating data distribution\n",
    "    # Defining data distribution\n",
    "    y = Gaussian(A(x), s_noise**2, geometry=G_cont)\n",
    "    \n",
    "    #%% 8 Defining the joint and the posterior distributions\n",
    "    joint = JointDistribution(x, y)\n",
    "    posterior = joint(y=y_obs)\n",
    "    \n",
    "    #%% 9 Sampling the posterior\n",
    "    # Defining the pCN sampler and sampling\n",
    "    sampler = pCN(posterior)\n",
    "    samples = sampler.sample_adapt(Ns)\n",
    "    \n",
    "    # Thin the samples\n",
    "    samples = samples.burnthin(Nb, Nt)\n",
    "    \n",
    "    #%% 10 Visualization and plotting\n",
    "    \n",
    "    # Loading the true initial pressure profile\n",
    "    init_pressure_data = np.load('./obs/init_pressure.npz')\n",
    "    g_true = init_pressure_data['init_pressure']\n",
    "    \n",
    "    # Create FEniCS function for g_true wrapped in CUQIarray\n",
    "    g_true_function = Function(parameter_space)\n",
    "    g_true_function.vector().set_local(g_true[::-1])\n",
    "    g_true = CUQIarray(\n",
    "        g_true_function, is_par=False, geometry=G)\n",
    "    # Plotting the data\n",
    "    # create `plots` directory if it does not exist\n",
    "    if not os.path.exists('plots'):\n",
    "        os.makedirs('plots') \n",
    "    t = np.linspace(0,1,251)\n",
    "    labels = np.linspace(0,1,5)\n",
    "    if full_data:\n",
    "        f, ax = plt.subplots(1,2)\n",
    "        y_obs = y_obs.reshape(251,-1)\n",
    "        ax[0].plot(t,y_obs[:,0])\n",
    "        ax[0].plot(t,b_exact[:,0])\n",
    "        ax[0].set_xticks(labels)\n",
    "        ax[0].set_xticklabels(labels)\n",
    "        ax[0].set_xlim([-.05,1.05])\n",
    "        ax[0].set_ylim([-0.05,.55])\n",
    "        ax[0].set_xlabel(r'$\\tau$')\n",
    "        ax[0].set_ylabel(r'$u(\\xi_L)$')\n",
    "        ax[0].set_title(r'pressure, left boundary')\n",
    "        ax[0].grid()\n",
    "        ax[1].plot(t,y_obs[:,1])\n",
    "        ax[1].plot(t,b_exact[:,1])\n",
    "        ax[1].set_xticks(labels)\n",
    "        ax[1].set_xticklabels(labels)\n",
    "        ax[1].set_xlim([-.05,1.05])\n",
    "        ax[1].set_ylim([-0.05,.55])\n",
    "        ax[1].set_xlabel(r'$\\tau$')\n",
    "        ax[1].set_ylabel(r'$u(\\xi_L)$')\n",
    "        ax[1].set_title(r'pressure, right boundary')\n",
    "        ax[1].grid()\n",
    "        ax[1].legend([r'noisy data',r'exact data'], loc=1)\n",
    "    else:\n",
    "        f, ax = plt.subplots(1)\n",
    "        ax.plot(t,y_obs)\n",
    "        ax.plot(t,b_exact[:,0])\n",
    "        ax.set_xticks(labels)\n",
    "        ax.set_xticklabels(labels)\n",
    "        ax.set_xlim([-.05,1.05])\n",
    "        ax.set_ylim([-0.05,.55])\n",
    "        ax.set_xlabel(r'$\\tau$')\n",
    "        ax.set_ylabel(r'$u(\\xi_L)$')\n",
    "        ax.set_title(r'pressure, left boundary')\n",
    "        ax.grid()\n",
    "        ax.legend([r'noisy data',r'exact data'], loc=1)\n",
    "    plt.savefig(\"./plots/data_\"+label+\".png\")\n",
    "    \n",
    "    # Plotting the the posterior mean and the uncertainty on the continuous\n",
    "    # domain\n",
    "    f, ax = plt.subplots(1)\n",
    "    samples.funvals.vector.plot_ci(95, exact=g_true)\n",
    "    ax.legend([r'95% CI',r'Mean',r'Exact'], loc=1)\n",
    "    ax.set_xlim([-.05,1.05])\n",
    "    ax.set_ylim([-0.3,0.7])\n",
    "    ax.set_xlabel(r'$\\xi$')\n",
    "    ax.set_ylabel(r'$g$')\n",
    "    ax.grid()\n",
    "    ax.set_title(r'estimated initial pressure')\n",
    "    plt.savefig(\"./plots/posterior_cont_\"+label+\".png\")\n",
    "    \n",
    "    # Plotting the the posterior mean and the uncertainty for the KL parameters\n",
    "    f, ax = plt.subplots(1)\n",
    "    samples.plot_ci(95, plot_par=True, marker='.')\n",
    "    ax.legend([r'Mean',r'95% CT'], loc=4)\n",
    "    ax.set_xlim([-1,25])\n",
    "    ax.set_ylim([-2.5,2.5])\n",
    "    ax.grid()\n",
    "    ax.set_xlabel(r'$i$')\n",
    "    ax.set_ylabel(r'$x_i$')\n",
    "    ax.set_title(r'estimated Bayesian parameters')\n",
    "    plt.savefig(\"./plots/posterior_par_\"+label+\".png\")\n",
    "    \n",
    "    # %%\n",
    "    # Saving the samples\n",
    "    # create `stat` directory if it does not exist\n",
    "    if not os.path.exists('stat'):\n",
    "        os.makedirs('stat')\n",
    "    # save the samples\n",
    "    np.savez('stat/samples_thinned_'+label+'.npz', samples=samples.samples)\n",
    "    "
   ]
  },
  {
   "cell_type": "markdown",
   "metadata": {},
   "source": [
    "For each configuration of the data, we run the function `run_PAT` and to solve the Bayesian PAT problem and save the results. This could take several hours (~6) to run data configuration case. You can set Ns, the number of samples, to a smaller value to get results quicker for a shorter MCMC chain. Note that you will also need to set the burn-in Nb and the thinning Nt accordingly."
   ]
  },
  {
   "cell_type": "code",
   "execution_count": null,
   "metadata": {},
   "outputs": [],
   "source": [
    "full_data = True #full data case\n",
    "print(\"Running PAT for the full data case\")\n",
    "run_PAT(full_data, Ns=50, Nb=0, Nt=5, seed=0) # TEMP: Ns=50000, Nb=0, Nt=100"
   ]
  },
  {
   "cell_type": "code",
   "execution_count": null,
   "metadata": {},
   "outputs": [],
   "source": [
    "full_data = False #full data case\n",
    "print(\"Running PAT for the partial data case\")\n",
    "run_PAT(full_data, Ns=50, Nb=0, Nt=5, seed=0) # TEMP: Ns=50000, Nb=0, Nt=100"
   ]
  },
  {
   "cell_type": "markdown",
   "metadata": {},
   "source": [
    "Then we run the following code cells to generate the exact paper figures from the samples generated above, these figures are saved in `plots` folder."
   ]
  },
  {
   "cell_type": "markdown",
   "metadata": {},
   "source": [
    "Set up `matplotlib` parameters:"
   ]
  },
  {
   "cell_type": "code",
   "execution_count": null,
   "metadata": {},
   "outputs": [],
   "source": [
    "# Set up matplotlib parameters\n",
    "SMALL_SIZE = 7\n",
    "MEDIUM_SIZE = 8\n",
    "BIGGER_SIZE = 9\n",
    "plt.rc('font', size=MEDIUM_SIZE)          # controls default text sizes\n",
    "plt.rc('axes', titlesize=BIGGER_SIZE)     # fontsize of the axes title\n",
    "plt.rc('axes', labelsize=MEDIUM_SIZE)    # fontsize of the x and y labels\n",
    "plt.rc('xtick', labelsize=SMALL_SIZE)    # fontsize of the tick labels\n",
    "plt.rc('ytick', labelsize=SMALL_SIZE)    # fontsize of the tick labels\n",
    "plt.rc('legend', fontsize=SMALL_SIZE)    # legend fontsize\n",
    "plt.rc('figure', titlesize=BIGGER_SIZE)  # fontsize of the figure title"
   ]
  },
  {
   "cell_type": "markdown",
   "metadata": {},
   "source": [
    "Load the observation data and the true parameters:"
   ]
  },
  {
   "cell_type": "code",
   "execution_count": null,
   "metadata": {},
   "outputs": [],
   "source": [
    "# Load observation data\n",
    "obs_data_full = np.load( './obs/full_boundary_5per.npz' )\n",
    "y_obs_full = obs_data_full['data'].reshape(251,2)\n",
    "b_exact = obs_data_full['b_exact'].reshape(251,2)\n",
    "obs_data_half = np.load( './obs/half_boundary_5per.npz' )\n",
    "y_obs_half = obs_data_half['data'].reshape(251,1)\n",
    "\n",
    "# Load true parameter\n",
    "init_pressure_data = np.load( './obs/init_pressure.npz' )\n",
    "g_true = init_pressure_data['init_pressure']"
   ]
  },
  {
   "cell_type": "markdown",
   "metadata": {},
   "source": [
    "Load the samples:"
   ]
  },
  {
   "cell_type": "code",
   "execution_count": null,
   "metadata": {},
   "outputs": [],
   "source": [
    "# Load samples\n",
    "print('loading ...')\n",
    "print('data 1 ...')\n",
    "data_full = np.load('./stat/samples_thinned_full.npz')\n",
    "samples_full = data_full['samples']\n",
    "print('data 2 ...')\n",
    "data_half = np.load('./stat/samples_thinned_half.npz')\n",
    "samples_half = data_half['samples']"
   ]
  },
  {
   "cell_type": "markdown",
   "metadata": {},
   "source": [
    "Create the domain geometry domain_geometry again (for plotting purposes):"
   ]
  },
  {
   "cell_type": "code",
   "execution_count": null,
   "metadata": {},
   "outputs": [],
   "source": [
    "mesh = UnitIntervalMesh(120)\n",
    "parameter_space = FunctionSpace(mesh,'CG', 1)\n",
    "G = create_domain_geometry(parameter_space)"
   ]
  },
  {
   "cell_type": "markdown",
   "metadata": {},
   "source": [
    "Create Samples objects:"
   ]
  },
  {
   "cell_type": "code",
   "execution_count": null,
   "metadata": {},
   "outputs": [],
   "source": [
    "cuqi_samples_full = Samples(samples_full, geometry=G)\n",
    "cuqi_samples_half = Samples(samples_half, geometry=G)"
   ]
  },
  {
   "cell_type": "markdown",
   "metadata": {},
   "source": [
    "Create true `FEniCS` function and wrap it in `CUQIarray`"
   ]
  },
  {
   "cell_type": "code",
   "execution_count": null,
   "metadata": {},
   "outputs": [],
   "source": [
    "g_true_function = Function(parameter_space)\n",
    "g_true_function.vector().set_local(g_true[::-1])\n",
    "g_true_function = CUQIarray(g_true_function, is_par=False, geometry=G)"
   ]
  },
  {
   "cell_type": "markdown",
   "metadata": {},
   "source": [
    "Create plot directory if it does not exists"
   ]
  },
  {
   "cell_type": "code",
   "execution_count": null,
   "metadata": {},
   "outputs": [],
   "source": [
    "if not os.path.exists('./plots'):\n",
    "    os.makedirs('./plots')"
   ]
  },
  {
   "cell_type": "markdown",
   "metadata": {},
   "source": [
    "Plot figure 10:"
   ]
  },
  {
   "cell_type": "code",
   "execution_count": null,
   "metadata": {},
   "outputs": [],
   "source": [
    "\n",
    "plt.figure()\n",
    "plot_figure10(g_true, b_exact, y_obs_full)\n",
    "plt.savefig('./plots/data.pdf',format='pdf')"
   ]
  },
  {
   "cell_type": "markdown",
   "metadata": {},
   "source": [
    "Plot figure 11"
   ]
  },
  {
   "cell_type": "code",
   "execution_count": null,
   "metadata": {},
   "outputs": [],
   "source": [
    "plt.figure()\n",
    "plot_figure11(g_true_function, cuqi_samples_full, cuqi_samples_half)\n",
    "plt.savefig('./plots/uq.pdf',format='pdf')"
   ]
  },
  {
   "cell_type": "markdown",
   "metadata": {},
   "source": [
    "Plot figure 12"
   ]
  },
  {
   "cell_type": "code",
   "execution_count": null,
   "metadata": {},
   "outputs": [],
   "source": [
    "plot_figure12(cuqi_samples_full, cuqi_samples_half)\n",
    "plt.savefig('./plots/params.pdf',format='pdf')"
   ]
  }
 ],
 "metadata": {
  "kernelspec": {
   "display_name": "fenicsproject_nlopt",
   "language": "python",
   "name": "python3"
  },
  "language_info": {
   "codemirror_mode": {
    "name": "ipython",
    "version": 3
   },
   "file_extension": ".py",
   "mimetype": "text/x-python",
   "name": "python",
   "nbconvert_exporter": "python",
   "pygments_lexer": "ipython3",
   "version": "3.12.0"
  }
 },
 "nbformat": 4,
 "nbformat_minor": 2
}
