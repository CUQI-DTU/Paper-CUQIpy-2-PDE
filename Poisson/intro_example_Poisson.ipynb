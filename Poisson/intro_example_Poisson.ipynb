{
 "cells": [
  {
   "attachments": {},
   "cell_type": "markdown",
   "metadata": {},
   "source": [
    "# 1. Introduction\n",
    "\n",
    "# 1.2. A motivating example\n",
    "\n",
    "\n"
   ]
  },
  {
   "cell_type": "code",
   "execution_count": null,
   "metadata": {},
   "outputs": [],
   "source": [
    "from scipy import optimize\n",
    "import ufl\n",
    "import matplotlib.pyplot as plt\n",
    "import sys\n",
    "import cuqi\n",
    "from cuqi.sampler import NUTS\n",
    "from cuqi.problem import BayesianProblem\n",
    "from cuqi.distribution import Gaussian\n",
    "from cuqipy_fenics.testproblem import FEniCSPoisson2D\n",
    "import dolfin as dl\n",
    "import numpy as np"
   ]
  },
  {
   "cell_type": "code",
   "execution_count": null,
   "metadata": {},
   "outputs": [],
   "source": [
    "A = FEniCSPoisson2D(dim=(32,32), field_type=\"KL\", mapping='exponential', bc_types=['Dirichlet', 'Neumann', 'Dirichlet', 'Neumann']).model"
   ]
  },
  {
   "cell_type": "code",
   "execution_count": null,
   "metadata": {},
   "outputs": [],
   "source": [
    "G_KL = A.domain_geometry\n",
    "G_FEM = A.range_geometry"
   ]
  },
  {
   "cell_type": "code",
   "execution_count": null,
   "metadata": {},
   "outputs": [],
   "source": [
    "n_KL = G_KL.num_terms"
   ]
  },
  {
   "cell_type": "code",
   "execution_count": null,
   "metadata": {},
   "outputs": [],
   "source": [
    "x = Gaussian(np.zeros(n_KL), 1, geometry=G_KL)"
   ]
  },
  {
   "cell_type": "code",
   "execution_count": null,
   "metadata": {},
   "outputs": [],
   "source": [
    "# Se the random seed\n",
    "np.random.seed(15) "
   ]
  },
  {
   "cell_type": "code",
   "execution_count": null,
   "metadata": {},
   "outputs": [],
   "source": [
    "x_true = x.sample()\n",
    "x_true.plot()"
   ]
  },
  {
   "attachments": {},
   "cell_type": "markdown",
   "metadata": {},
   "source": [
    "This cell to compute s_noise"
   ]
  },
  {
   "cell_type": "code",
   "execution_count": null,
   "metadata": {},
   "outputs": [],
   "source": [
    "noise_level = 0.01\n",
    "y_true = A(x_true)\n",
    "s_noise = 1.0/np.sqrt(G_FEM.par_dim)* noise_level*np.linalg.norm(y_true)"
   ]
  },
  {
   "cell_type": "code",
   "execution_count": null,
   "metadata": {},
   "outputs": [],
   "source": [
    "# to be fixed in future release to be y_true.plot()\n",
    "G_FEM.plot(y_true)"
   ]
  },
  {
   "cell_type": "code",
   "execution_count": null,
   "metadata": {},
   "outputs": [],
   "source": [
    "y = Gaussian(A(x), s_noise**2, geometry=G_FEM)"
   ]
  },
  {
   "cell_type": "code",
   "execution_count": null,
   "metadata": {},
   "outputs": [],
   "source": [
    "y_obs = y(x=x_true).sample()\n",
    "y_obs.plot()"
   ]
  },
  {
   "cell_type": "code",
   "execution_count": null,
   "metadata": {},
   "outputs": [],
   "source": [
    "BP = BayesianProblem(y, x).set_data(y=y_obs)"
   ]
  },
  {
   "attachments": {},
   "cell_type": "markdown",
   "metadata": {},
   "source": [
    "The following 2 code cells will be replaced by `BP.UQ(97)` in upcoming release\n",
    "of this notebook "
   ]
  },
  {
   "cell_type": "code",
   "execution_count": null,
   "metadata": {},
   "outputs": [],
   "source": [
    "Ns = 5000\n",
    "Ns_factor = 0.004\n",
    "my_sampler = NUTS(BP.posterior)\n",
    "posterior_samples = my_sampler.sample_adapt(int(Ns*Ns_factor), Nb=10)\n"
   ]
  },
  {
   "cell_type": "code",
   "execution_count": null,
   "metadata": {},
   "outputs": [],
   "source": [
    "# plot mean\n",
    "plt.figure()\n",
    "posterior_samples.plot_mean()\n",
    "\n",
    "# plot variance\n",
    "# this logic of plotting the variance will be replaced by one line:\n",
    "# `posterior_samples.funvals.plot_variance()` in future release\n",
    "plt.figure()\n",
    "dofs = np.empty((G_FEM.function_space.dim(),\n",
    "                 posterior_samples.samples.shape[1]))\n",
    "for i, s in enumerate(posterior_samples):\n",
    "    dofs[:, i] = G_KL.par2fun(s).vector().get_local() \n",
    "\n",
    "var_vec = np.var(dofs, axis=1)\n",
    "var_fun = dl.Function(G_FEM.function_space)\n",
    "var_fun.vector().set_local(var_vec)\n",
    "G_FEM.plot(var_fun, is_par=False)\n",
    "plt.title('Variance')\n",
    "\n",
    "# plot credible interval\n",
    "plt.figure()\n",
    "posterior_samples.plot_ci(97, plot_par=True, exact=x_true)"
   ]
  },
  {
   "attachments": {},
   "cell_type": "markdown",
   "metadata": {},
   "source": [
    "Code cell for generating Figure 1"
   ]
  },
  {
   "cell_type": "code",
   "execution_count": null,
   "metadata": {},
   "outputs": [],
   "source": [
    "import os\n",
    "from matplotlib import ticker\n",
    "\n",
    "# Set up matplotlib\n",
    "SMALL_SIZE = 7\n",
    "MEDIUM_SIZE = 8\n",
    "BIGGER_SIZE = 9\n",
    "plt.rc('font', size=MEDIUM_SIZE)          # controls default text sizes\n",
    "plt.rc('axes', titlesize=BIGGER_SIZE)     # fontsize of the axes title\n",
    "plt.rc('axes', labelsize=MEDIUM_SIZE)    # fontsize of the x and y labels\n",
    "plt.rc('xtick', labelsize=SMALL_SIZE)    # fontsize of the tick labels\n",
    "plt.rc('ytick', labelsize=SMALL_SIZE)    # fontsize of the tick labels\n",
    "plt.rc('legend', fontsize=SMALL_SIZE)    # legend fontsize\n",
    "plt.rc('figure', titlesize=BIGGER_SIZE)  # fontsize of the figure title\n",
    "\n",
    "# Data directory\n",
    "fig_dir = './figs/'\n",
    "\n",
    "# Figure file\n",
    "fig_dir = fig_dir \n",
    "\n",
    "# Check if the directory exists\n",
    "if not os.path.exists(fig_dir):\n",
    "    os.makedirs(fig_dir)\n",
    "\n",
    "# Figure version\n",
    "version = 'v8'\n",
    "n_burn = 0 # number of burn-in samples\n",
    "\n",
    "# Figure file\n",
    "fig_file = fig_dir + 'paper_figure1_'+version+'.pdf'\n",
    "\n",
    "# Create the figure\n",
    "cm_to_in = 1/2.54\n",
    "fig, axs = plt.subplots(nrows=2, ncols=3,\n",
    "                        figsize=(17.8*cm_to_in, 9.8*cm_to_in),\n",
    "                        layout=\"constrained\")\n",
    "\n",
    "\n",
    "# Define the colors to be used in the plots\n",
    "colors = ['C0', 'green', 'purple', 'k', 'gray']\n",
    "\n",
    "# (a)\n",
    "plt.sca(axs[0,0])\n",
    "im = x_true.plot(subplots=False, vmin=-0.2, vmax=0.5, mode='color')\n",
    "inset_axes = plt.gca().inset_axes([1.04, 0.2, 0.05, 0.6])\n",
    "fig.colorbar(im[0], ax=plt.gca(), cax=inset_axes)\n",
    "plt.gca().set_xlim(0, 1)\n",
    "plt.gca().set_ylim(0, 1)\n",
    "plt.gca().set_title('(a) Exact solution')\n",
    "\n",
    "plt.ylabel('$\\\\xi^2$')\n",
    "plt.gca().yaxis.labelpad = -5\n",
    "plt.xlabel('$\\\\xi^1$')\n",
    "plt.gca().xaxis.labelpad = -5\n",
    "\n",
    "# (b)\n",
    "plt.sca(axs[0,1])\n",
    "# The following line will be replaced by `y_true.plot(subplots=False)` \n",
    "# in future release\n",
    "im = G_FEM.plot(y_true, subplots=False)\n",
    "inset_axes = plt.gca().inset_axes([1.04, 0.2, 0.05, 0.6])\n",
    "fig.colorbar(im[0], ax=plt.gca(), cax=inset_axes)\n",
    "\n",
    "plt.ylabel('$\\\\xi^2$')\n",
    "plt.gca().yaxis.labelpad = -5\n",
    "plt.xlabel('$\\\\xi^1$')\n",
    "plt.gca().xaxis.labelpad = -5\n",
    "plt.gca().set_title('(b) Exact data')\n",
    "\n",
    "# (c)\n",
    "plt.sca(axs[0,2])\n",
    "im = y_obs.plot(subplots=False)\n",
    "inset_axes = plt.gca().inset_axes([1.04, 0.2, 0.05, 0.6])\n",
    "fig.colorbar(im[0], ax=plt.gca(), cax=inset_axes)\n",
    "\n",
    "plt.ylabel('$\\\\xi^2$')\n",
    "plt.gca().yaxis.labelpad = -5\n",
    "plt.xlabel('$\\\\xi^1$')\n",
    "plt.gca().xaxis.labelpad = -5\n",
    "plt.gca().set_title('(c) Noisy data')\n",
    "\n",
    "# (d)\n",
    "plt.sca(axs[1,0])\n",
    "\n",
    "im = posterior_samples.plot_mean(subplots=False, vmin=-0.2, vmax=0.5, mode='color')\n",
    "inset_axes = plt.gca().inset_axes([1.04, 0.2, 0.05, 0.6])\n",
    "fig.colorbar(im[0], ax=plt.gca(), cax=inset_axes)\n",
    "plt.gca().set_xlim(0, 1)\n",
    "plt.gca().set_ylim(0, 1)\n",
    "\n",
    "plt.ylabel('$\\\\xi^2$')\n",
    "plt.gca().yaxis.labelpad = -5\n",
    "plt.xlabel('$\\\\xi^1$')\n",
    "plt.gca().xaxis.labelpad = -5\n",
    "plt.gca().set_title('(d) Posterior mean')\n",
    "\n",
    "# (e)\n",
    "plt.sca(axs[1,1])\n",
    "im = G_KL.plot(var_fun, is_par=False,subplots=False)\n",
    "inset_axes = plt.gca().inset_axes([1.04, 0.2, 0.05, 0.6])\n",
    "cb = fig.colorbar(im[0], ax=plt.gca(), cax=inset_axes)\n",
    "cb.locator = ticker.MaxNLocator(nbins=4)\n",
    "plt.ylabel('$\\\\xi^2$')\n",
    "plt.gca().yaxis.labelpad = -5\n",
    "plt.xlabel('$\\\\xi^1$')\n",
    "plt.gca().xaxis.labelpad = -5\n",
    "plt.gca().set_title('(e) Posterior variance')\n",
    "\n",
    "# (f)\n",
    "plt.sca(axs[1,2])\n",
    "lci = posterior_samples.burnthin(n_burn).plot_ci(97, exact=x_true, plot_par=True, markersize=SMALL_SIZE-3)\n",
    "lci[0].set_label(\"Mean\")\n",
    "lci[1].set_label(\"Exact\")\n",
    "lci[2].set_label(\"$97\\\\%$ CI\")\n",
    "plt.ylim(-5, 3)\n",
    "plt.legend(ncols=2) #\n",
    "\n",
    "plt.rc('text', usetex=True)\n",
    "plt.rc('text.latex', preamble=r'\\usepackage{bm}')\n",
    "plt.ylabel('$\\\\bm{x}_i$')\n",
    "plt.gca().yaxis.labelpad = -5\n",
    "plt.gca().yaxis.set_label_coords( -0.06, 0.5)\n",
    "plt.xlabel('$i$')\n",
    "plt.gca().xaxis.labelpad = -5\n",
    "plt.gca().set_title('(f) Posterior CI')\n",
    "n_ticks = 8\n",
    "num_var = posterior_samples.geometry.par_dim\n",
    "tick_ids = np.linspace(0, num_var-1, n_ticks, dtype=int)\n",
    "plt.xticks(tick_ids, tick_ids)\n",
    "\n",
    "# Save the figure\n",
    "fig.tight_layout(pad=0, w_pad=0.1, h_pad=0.9)\n",
    "plt.savefig(fig_file, bbox_inches='tight', pad_inches=0.01, dpi=1200)"
   ]
  }
 ],
 "metadata": {
  "kernelspec": {
   "display_name": "Python 3",
   "language": "python",
   "name": "python3"
  },
  "language_info": {
   "codemirror_mode": {
    "name": "ipython",
    "version": 3
   },
   "file_extension": ".py",
   "mimetype": "text/x-python",
   "name": "python",
   "nbconvert_exporter": "python",
   "pygments_lexer": "ipython3",
   "version": "3.10.5"
  },
  "orig_nbformat": 3,
  "vscode": {
   "interpreter": {
    "hash": "f83c72a7c5d885a4a7f43561cb77434137f6f5cf21a7418d4732e18616218db3"
   }
  }
 },
 "nbformat": 4,
 "nbformat_minor": 2
}
